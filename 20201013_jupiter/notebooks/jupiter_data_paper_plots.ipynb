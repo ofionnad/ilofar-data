{
 "metadata": {
  "language_info": {
   "codemirror_mode": {
    "name": "ipython",
    "version": 3
   },
   "file_extension": ".py",
   "mimetype": "text/x-python",
   "name": "python",
   "nbconvert_exporter": "python",
   "pygments_lexer": "ipython3",
   "version": "3.8.0-final"
  },
  "orig_nbformat": 2,
  "kernelspec": {
   "name": "jup-realta",
   "display_name": "jup-realta",
   "language": "python"
  }
 },
 "nbformat": 4,
 "nbformat_minor": 2,
 "cells": [
  {
   "cell_type": "code",
   "execution_count": 1,
   "metadata": {},
   "outputs": [],
   "source": [
    "#!/usr/bin/env python3\n",
    "import numpy as np\n",
    "import matplotlib.pyplot as plt\n",
    "import pandas as pd \n",
    "import astropy.units as u\n",
    "from sunpy.time import TimeRange\n",
    "import time\n",
    "import sys\n",
    "\n",
    "import datetime as dt\n",
    "import matplotlib.dates as mdates\n",
    "from mpl_toolkits.axes_grid1 import make_axes_locatable\n",
    "from matplotlib.colors import LogNorm\n",
    "\n",
    "%matplotlib inline"
   ]
  },
  {
   "cell_type": "code",
   "execution_count": 2,
   "metadata": {},
   "outputs": [],
   "source": [
    "sys.path.insert(1, '../')\n",
    "from sk import LofarRaw"
   ]
  },
  {
   "cell_type": "code",
   "execution_count": 3,
   "metadata": {},
   "outputs": [],
   "source": [
    "filename = '../udpoutput/jupiter-stokesI_0_2020-10-13T17:45:00_19563123779296'\n",
    "frange = [15,60]\n",
    "sbs = np.arange(76,320)\n",
    "obs_mode = 3\n",
    "time_len_mins = 15.\n",
    "trange = TimeRange(filename.split('_')[-2], time_len_mins*u.min)\n",
    "xlabel = \"Time from {} {}\".format(filename.split('_')[-2].split('T')[0], filename.split('_')[-2].split('T')[1])\n",
    "ylabel = \"Frequency (MHz)\"\n",
    "title = filename.split('/')[2]"
   ]
  },
  {
   "source": [
    "Read in the data to raw using the class I made from before. It is essentially just doing np.fromfile() at this point. \n",
    "The method for plotting the data will be simple. \n",
    "\n",
    "* Normalise the data (in frequency response) split by smaller time chunks\n",
    "* Fit 2nd order polynomials to the data (split into smaller chunks again)\n",
    "* Plot the data to see what it looks like and make sure its all ok (beware imshow not plotting entire dataset if large)\n",
    "* Decimate the data (integrating to downsample the time axis)\n",
    "* final plot"
   ],
   "cell_type": "markdown",
   "metadata": {}
  },
  {
   "cell_type": "code",
   "execution_count": 4,
   "metadata": {},
   "outputs": [
    {
     "output_type": "stream",
     "name": "stdout",
     "text": [
      "Time to read data: 0.000697s\n\n"
     ]
    }
   ],
   "source": [
    "raw = LofarRaw(fname=filename, sbs=sbs, obs_mode=obs_mode, frange=frange)\n",
    "flimits = np.array([40,94])\n",
    "freqlimits = raw.sb_to_f(flimits+sbs[0], obs_mode)\n",
    "xlims = list(map(dt.datetime.fromisoformat, [trange.start.value, trange.end.value]))\n",
    "xlims = mdates.date2num(xlims)\n",
    "raw.data = raw.data[:, flimits[0]:flimits[1]]"
   ]
  },
  {
   "cell_type": "code",
   "execution_count": 5,
   "metadata": {},
   "outputs": [
    {
     "output_type": "stream",
     "name": "stdout",
     "text": [
      "30\n"
     ]
    }
   ],
   "source": [
    "#raw.data = raw.data[::100]\n",
    "norm_seconds = 30 #the resolution of poly fitting\n",
    "norm_splits = int((15*60)/norm_seconds)\n",
    "print(norm_splits)\n",
    "poly_splits = 1000"
   ]
  },
  {
   "cell_type": "code",
   "execution_count": 6,
   "metadata": {},
   "outputs": [],
   "source": [
    "arrays = np.array_split(raw.data, norm_splits)\n",
    "#arrays = [(arr/np.quantile(arr, 0.1, axis=0)) for arr in arrays]\n",
    "for i,arr in enumerate(arrays):\n",
    "    arr = arr/np.quantile(np.abs(arr), 0.1, axis=0)\n",
    "    arrays[i] = arr\n",
    "data = np.vstack(arrays)"
   ]
  },
  {
   "cell_type": "code",
   "execution_count": 7,
   "metadata": {},
   "outputs": [
    {
     "output_type": "stream",
     "name": "stdout",
     "text": [
      "\nMasked subbands: [46 63 65]\nMasked frequencies: [23.828125  27.1484375 27.5390625] MHz\n\n"
     ]
    }
   ],
   "source": [
    "#rfi_bands = [0, 1, 6, 7, 25, 51, 52, 53] #dominant rfi bands 0->20 + 31, 32, 38\n",
    "rfi_bands = [6, 23, 25]\n",
    "rfi_freqs = raw.sb_to_f(np.array(rfi_bands) + flimits[0] + sbs[0], obs_mode)\n",
    "print(\"\\nMasked subbands: {}\\nMasked frequencies: {}\\n\".format(np.array(rfi_bands)+flimits[0], rfi_freqs))"
   ]
  },
  {
   "cell_type": "code",
   "execution_count": 8,
   "metadata": {},
   "outputs": [],
   "source": [
    "data[:, rfi_bands] = np.nan ###removing rfi bands from data(set to nan, will be masked later)"
   ]
  },
  {
   "cell_type": "code",
   "execution_count": 9,
   "metadata": {},
   "outputs": [],
   "source": [
    "plt.figure(figsize=(12,6))\n",
    "im = plt.imshow(data.T, aspect='auto', origin='lower',\n",
    "            vmin=np.nanpercentile(data.T, 5), \n",
    "            vmax=np.nanpercentile(data.T, 90),\n",
    "            extent=[xlims[0], xlims[1], \n",
    "                    freqlimits[0].value, freqlimits[1].value])\n",
    "\n",
    "plt.gca().xaxis_date()\n",
    "date_format = mdates.DateFormatter('%H:%M:%S')\n",
    "plt.gca().xaxis.set_major_formatter(date_format)\n",
    "\n",
    "plt.title(\"Jupiter auroral emission - Stokes V\")\n",
    "plt.ylabel(ylabel, fontsize=14)\n",
    "plt.xlabel(xlabel, fontsize=14)\n",
    "\n",
    "divider = make_axes_locatable(plt.gca())\n",
    "cax = divider.append_axes(\"right\", size=\"5%\", pad=0.05)\n",
    "plt.colorbar(im, cax=cax)\n",
    "\n",
    "plt.tight_layout()"
   ]
  },
  {
   "cell_type": "code",
   "execution_count": 9,
   "metadata": {},
   "outputs": [],
   "source": [
    "arrs = np.array_split(data, poly_splits)\n",
    "for arr in arrs:\n",
    "    for i in np.arange(arr.shape[1]):\n",
    "        if np.any(np.isnan(arr[:,i])):\n",
    "            pass\n",
    "        else:\n",
    "            coeffs = np.polyfit(np.linspace(0, len(arr[:,i]), len(arr[:, i])), arr[:, i], 2)\n",
    "            ynew = np.poly1d(coeffs)\n",
    "            arr[:, i] = ynew(np.linspace(0, len(arr[:, i]), len(arr[:, i])))\n",
    "data = np.vstack(arrs)"
   ]
  },
  {
   "cell_type": "code",
   "execution_count": 10,
   "metadata": {},
   "outputs": [],
   "source": [
    "data = np.ma.masked_invalid(data)"
   ]
  },
  {
   "cell_type": "code",
   "execution_count": 11,
   "metadata": {},
   "outputs": [],
   "source": [
    "plt.figure(figsize=(12,6))\n",
    "im = plt.imshow(data.T, aspect='auto', origin='lower',\n",
    "            vmin=np.nanpercentile(data.T, 5), \n",
    "            vmax=np.nanpercentile(data.T, 90),\n",
    "            extent=[xlims[0], xlims[1], \n",
    "                    freqlimits[0].value, freqlimits[1].value])\n",
    "\n",
    "plt.gca().xaxis_date()\n",
    "date_format = mdates.DateFormatter('%H:%M:%S')\n",
    "plt.gca().xaxis.set_major_formatter(date_format)\n",
    "\n",
    "plt.title(\"Jupiter auroral emission - Stokes V\")\n",
    "plt.ylabel(ylabel, fontsize=14)\n",
    "plt.xlabel(xlabel, fontsize=14)\n",
    "\n",
    "divider = make_axes_locatable(plt.gca())\n",
    "cax = divider.append_axes(\"right\", size=\"5%\", pad=0.05)\n",
    "plt.colorbar(im, cax=cax)\n",
    "\n",
    "plt.tight_layout()"
   ]
  },
  {
   "cell_type": "code",
   "execution_count": 12,
   "metadata": {},
   "outputs": [],
   "source": [
    "norms = np.quantile(np.abs(data), 0.1, axis=0)\n",
    "data = data/norms"
   ]
  },
  {
   "cell_type": "code",
   "execution_count": 13,
   "metadata": {},
   "outputs": [],
   "source": [
    "plt.figure(figsize=(12,6))\n",
    "im = plt.imshow(data.T, aspect='auto', origin='lower',\n",
    "            vmin=np.nanpercentile(data.T.compressed(), 5), \n",
    "            vmax=np.nanpercentile(data.T.compressed(), 90),\n",
    "            extent=[xlims[0], xlims[1], \n",
    "                    freqlimits[0].value, freqlimits[1].value])\n",
    "\n",
    "plt.gca().xaxis_date()\n",
    "date_format = mdates.DateFormatter('%H:%M:%S')\n",
    "plt.gca().xaxis.set_major_formatter(date_format)\n",
    "\n",
    "plt.title(\"Jupiter auroral emission - Stokes V\")\n",
    "plt.ylabel(ylabel, fontsize=14)\n",
    "plt.xlabel(xlabel, fontsize=14)\n",
    "\n",
    "divider = make_axes_locatable(plt.gca())\n",
    "cax = divider.append_axes(\"right\", size=\"5%\", pad=0.05)\n",
    "plt.colorbar(im, cax=cax)\n",
    "\n",
    "plt.tight_layout()"
   ]
  },
  {
   "cell_type": "code",
   "execution_count": 15,
   "metadata": {},
   "outputs": [],
   "source": [
    "dec = 32\n",
    "summed = np.cumsum(data, axis=0)\n",
    "decimated = summed[dec::dec, :] - summed[:-dec:dec, :]"
   ]
  },
  {
   "cell_type": "code",
   "execution_count": 16,
   "metadata": {},
   "outputs": [],
   "source": [
    "plt.figure(figsize=(12,6))\n",
    "im = plt.imshow(decimated.T, aspect='auto', origin='lower',\n",
    "            vmin=np.nanpercentile(decimated.compressed(), 5), \n",
    "            vmax=np.nanpercentile(decimated.compressed(), 95),\n",
    "            extent=[xlims[0], xlims[1], \n",
    "                    freqlimits[0].value, freqlimits[1].value])\n",
    "\n",
    "plt.gca().xaxis_date()\n",
    "date_format = mdates.DateFormatter('%H:%M:%S')\n",
    "plt.gca().xaxis.set_major_formatter(date_format)\n",
    "\n",
    "plt.title(\"Jupiter auroral emission - Stokes V\")\n",
    "plt.ylabel(ylabel, fontsize=16)\n",
    "plt.xlabel(xlabel, fontsize=16)\n",
    "plt.xticks(fontsize=12)\n",
    "plt.yticks(fontsize=12)\n",
    "\n",
    "divider = make_axes_locatable(plt.gca())\n",
    "cax = divider.append_axes(\"right\", size=\"5%\", pad=0.05)\n",
    "plt.colorbar(im, cax=cax)\n",
    "\n",
    "plt.tight_layout()"
   ]
  },
  {
   "cell_type": "code",
   "execution_count": 18,
   "metadata": {},
   "outputs": [],
   "source": [
    "plt.savefig('jupiter_stokesI_data_paperplot.png')"
   ]
  },
  {
   "cell_type": "code",
   "execution_count": null,
   "metadata": {},
   "outputs": [],
   "source": []
  }
 ]
}