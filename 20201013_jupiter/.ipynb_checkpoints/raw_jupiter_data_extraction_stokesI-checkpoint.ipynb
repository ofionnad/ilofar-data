{
 "cells": [
  {
   "cell_type": "code",
   "execution_count": 1,
   "metadata": {},
   "outputs": [
    {
     "name": "stderr",
     "output_type": "stream",
     "text": [
      "/home/ofionnad/realta/lib/python3.8/site-packages/pandas/compat/__init__.py:120: UserWarning: Could not import the lzma module. Your installed Python is incomplete. Attempting to use lzma compression will result in a RuntimeError.\n",
      "  warnings.warn(msg)\n"
     ]
    }
   ],
   "source": [
    "import sys\n",
    "import time\n",
    "\n",
    "import astropy.units as u\n",
    "import h5py\n",
    "import matplotlib.pyplot as plt\n",
    "import numpy as np\n",
    "\n",
    "from multiprocessing import Pool\n",
    "\n",
    "from astropy.units import Quantity\n",
    "from matplotlib import dates\n",
    "from sunpy.time import TimeRange"
   ]
  },
  {
   "cell_type": "code",
   "execution_count": 2,
   "metadata": {},
   "outputs": [],
   "source": [
    "sys.path.insert(0,\"/home/ofionnad/scripts\")\n",
    "from raw_class import LofarRaw"
   ]
  },
  {
   "cell_type": "code",
   "execution_count": 3,
   "metadata": {},
   "outputs": [],
   "source": [
    "##So here is a background subtraction from Pearse, but I do not use it. Including it here in case it is required in the future"
   ]
  },
  {
   "cell_type": "code",
   "execution_count": 4,
   "metadata": {},
   "outputs": [],
   "source": [
    "def bg(data, amount=0.05):\n",
    "        #tmp = data - np.mean(data, axis=0) \n",
    "        sdevs = np.mean(data, 1)\n",
    "        cand = sorted(range(data.shape[0]), key=lambda y: sdevs[y])\n",
    "        realcand = cand[:max(1, int(amount*len(cand)))]\n",
    "        bg = np.mean(data[realcand, :], 0)\n",
    "        return bg"
   ]
  },
  {
   "cell_type": "code",
   "execution_count": 5,
   "metadata": {},
   "outputs": [],
   "source": [
    "### Reading Code"
   ]
  },
  {
   "cell_type": "code",
   "execution_count": 7,
   "metadata": {},
   "outputs": [
    {
     "name": "stdout",
     "output_type": "stream",
     "text": [
      "\n",
      "Time to read raw data: 0.004079 sec\n",
      "\n",
      "\n",
      "Data processing done\n",
      "\n"
     ]
    }
   ],
   "source": [
    "\n",
    "start = time.time() #just some brief profiling\n",
    "\n",
    "############ Observation settings, change these for each observation\n",
    "#fname = sys.argv[1]\n",
    "fname = 'udpoutput/jupiter-stokesI_0_2020-10-13T17:47:00_19563125244140'\n",
    "trange = TimeRange(\"2020/10/13 17:47:00\", 10*u.min)\n",
    "frange = [15,60]*u.MHz\n",
    "sbs = np.arange(76, 319) # for 2/4 beams\n",
    "#sbs = np.arange(76, 197)  # for 1/4 beam\n",
    "obs_mode = 3\n",
    "time_decimation = 16\n",
    "dt = 5.12e-6 * time_decimation\n",
    "resample_bool = False\n",
    "resampled_dt = 1e-3\n",
    "###########################################################\n",
    "\n",
    "########## Plotting settings #############################\n",
    "title = \"Jupiter - Stokes I\"\n",
    "xtitle = \"Time\"\n",
    "ytitle = \"Frequency (MHz)\"\n",
    "savestring = \"rawplot_source_stokesI_15_60MHz.png\"\n",
    "###########################################################\n",
    "\n",
    "#define raw object with data etc.\n",
    "raw = LofarRaw(fname, sbs, obs_mode, trange, frange, dt=dt)\n",
    "read_time = time.time() - start #profiling\n",
    "print(\"\\nTime to read raw data: {:.6f} sec\\n\".format(read_time))\n",
    "\n",
    "\n",
    "### Resampling the time domain data, for when there is not enough memory\n",
    "if resample_bool:\n",
    "    resample_start = time.time()\n",
    "    sum_int = int(np.floor(resampled_dt/raw.dt.sec))\n",
    "    sum_shape = int(np.round(raw.data.shape[1]/sum_int))\n",
    "\n",
    "    def resample(i):\n",
    "        return np.sum(raw.data[:,i*sum_int:(i+1)*sum_int], axis=1)\n",
    "\n",
    "    with Pool() as pool:\n",
    "        resample_data = pool.map(resample, range(sum_shape))\n",
    "\n",
    "    resample_data = np.array(resample_data)\n",
    "    #resample_data = np.ma.masked_equal(resample_data, 0.05)\n",
    "    resample_time = time.time() - resample_start\n",
    "\n",
    "    print(\"Time to resample the data : {:.6f} sec\".format(resample_time))\n",
    "else:\n",
    "    resample_data = raw.data\n",
    "\n",
    "bg_data = resample_data\n",
    "#bg_data = rs_data / bg(rs_data, 0.05)\n",
    "\n",
    "print(\"\\nData processing done\\n\")"
   ]
  },
  {
   "cell_type": "code",
   "execution_count": 8,
   "metadata": {},
   "outputs": [],
   "source": [
    "### Plotting "
   ]
  },
  {
   "cell_type": "code",
   "execution_count": null,
   "metadata": {},
   "outputs": [
    {
     "name": "stdout",
     "output_type": "stream",
     "text": [
      "Creating figure... ... ...\n",
      "\n",
      "...\n",
      "Image created!\n",
      "...\n",
      "\n",
      "\n",
      "Saving Figure!\n",
      "\n",
      "Time to run: 525.456756 sec\n",
      "=======================\n"
     ]
    }
   ],
   "source": [
    "print(\"Creating figure... ... ...\\n\")\n",
    "\n",
    "fig, ax = plt.subplots(figsize=(10,6))\n",
    "if raw.trange is None:\n",
    "    ax.imshow(bg_data.data, aspect='auto', \n",
    "        extent=[raw.obs_start.plot_date, raw.obs_end.plot_date,\n",
    "        raw.freqs[-1].value, raw.freqs[0].value],\n",
    "        vmin=np.percentile(bg_data.data, 5), vmax=np.percentile(bg_data.data,95))\n",
    "else:\n",
    "    ax.imshow(bg_data.data, aspect='auto',\n",
    "        extent=[raw.trange.start.plot_date, raw.trange.end.plot_date,\n",
    "        raw.freqs[-1].value, raw.freqs[0].value],\n",
    "        vmin=np.percentile(bg_data.data, 5), vmax=np.percentile(bg_data.data, 95))\n",
    "\n",
    "print(\"...\\nImage created!\\n...\\n\")\n",
    "date_format = dates.DateFormatter(\"%H:%M:%S\")\n",
    "ax.xaxis_date()\n",
    "ax.xaxis.set_major_formatter(date_format)\n",
    "ax.set_title(title)\n",
    "ax.set_xlabel(xtitle)\n",
    "ax.set_ylabel(ytitle)\n",
    "print(\"\\nSaving Figure!\\n\")\n",
    "plt.savefig(savestring)\n",
    "#plt.savefig(str(raw.obs_start)+\"_raw_\"+str(int(frange[0]))+\"_\"+str(int(frange[1]))+\"MHz.png\")\n",
    "end = time.time() - start\n",
    "print(\"Time to run: {:.6f} sec\\n=======================\".format(end))\n",
    "plt.show()"
   ]
  },
  {
   "cell_type": "code",
   "execution_count": 15,
   "metadata": {},
   "outputs": [],
   "source": [
    "###vispy could speed up the plotting stuff here (but would take time to work out)"
   ]
  },
  {
   "cell_type": "code",
   "execution_count": null,
   "metadata": {},
   "outputs": [],
   "source": []
  }
 ],
 "metadata": {
  "kernelspec": {
   "display_name": "Python 3",
   "language": "python",
   "name": "python3"
  },
  "language_info": {
   "codemirror_mode": {
    "name": "ipython",
    "version": 3
   },
   "file_extension": ".py",
   "mimetype": "text/x-python",
   "name": "python",
   "nbconvert_exporter": "python",
   "pygments_lexer": "ipython3",
   "version": "3.8.0"
  }
 },
 "nbformat": 4,
 "nbformat_minor": 4
}
