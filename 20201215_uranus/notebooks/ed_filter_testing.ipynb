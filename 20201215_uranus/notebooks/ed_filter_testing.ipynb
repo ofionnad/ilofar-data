{
 "metadata": {
  "language_info": {
   "codemirror_mode": {
    "name": "ipython",
    "version": 3
   },
   "file_extension": ".py",
   "mimetype": "text/x-python",
   "name": "python",
   "nbconvert_exporter": "python",
   "pygments_lexer": "ipython3",
   "version": "3.8.0-final"
  },
  "orig_nbformat": 2,
  "kernelspec": {
   "name": "jup-realta",
   "display_name": "jup-realta",
   "language": "python"
  }
 },
 "nbformat": 4,
 "nbformat_minor": 2,
 "cells": [
  {
   "cell_type": "code",
   "execution_count": 1,
   "metadata": {},
   "outputs": [],
   "source": [
    "import numpy as np\n",
    "import matplotlib.pyplot as plt\n",
    "import pandas as pd \n",
    "import astropy.units as u\n",
    "from sunpy.time import TimeRange\n",
    "import time\n",
    "import sys\n",
    "\n",
    "import datetime as dt\n",
    "import matplotlib.dates as mdates\n",
    "import matplotlib as mpl\n",
    "from mpl_toolkits.axes_grid1 import make_axes_locatable\n",
    "from matplotlib.colors import LogNorm\n",
    "from matplotlib import gridspec,transforms\n",
    "\n",
    "mpl.use('nbagg')\n",
    "%matplotlib inline"
   ]
  },
  {
   "cell_type": "code",
   "execution_count": 2,
   "metadata": {},
   "outputs": [],
   "source": [
    "sys.path.insert(1, '../../20201013_jupiter/')\n",
    "from sk import LofarRaw"
   ]
  },
  {
   "cell_type": "code",
   "execution_count": 3,
   "metadata": {},
   "outputs": [],
   "source": [
    "filename = '../udpoutput/uranus-stokesVectors_0_2020-12-15T20:04:00_19629670898060' #0 is I and 1 is V I assume\n",
    "frange = [15,30]\n",
    "sbs = np.arange(76,198)\n",
    "obs_mode = 3\n",
    "time_len_mins = 176.\n",
    "trange = TimeRange(filename.split('_')[-2], time_len_mins*u.min)\n",
    "xlabel = \"Time from {} {}\".format(filename.split('_')[-2].split('T')[0], filename.split('_')[-2].split('T')[1])\n",
    "ylabel = \"Frequency (MHz)\"\n",
    "title = filename.split('/')[2]"
   ]
  },
  {
   "cell_type": "code",
   "execution_count": 4,
   "metadata": {},
   "outputs": [
    {
     "output_type": "stream",
     "name": "stdout",
     "text": [
      "Time to read data: 0.000488s\n\n"
     ]
    }
   ],
   "source": [
    "# read in the data (stokes I or V from udpPM)\n",
    "raw = LofarRaw(fname=filename, sbs=sbs, obs_mode=obs_mode, frange=frange)\n",
    "raw.data = raw.data[:,:78] ###the rest of the subbands are empty because of the way ilofar/realta records data into the data lanes"
   ]
  },
  {
   "cell_type": "code",
   "execution_count": 6,
   "metadata": {},
   "outputs": [],
   "source": [
    "flimits = np.array([0,78])\n",
    "freqlimits = raw.sb_to_f(flimits+sbs[0], obs_mode)\n",
    "xlims = list(map(dt.datetime.fromisoformat, [trange.start.value, trange.end.value]))\n",
    "xlims = mdates.date2num(xlims)\n",
    "\n",
    "datasplit = 10\n",
    "normseconds = 42\n",
    "norm_splits = int(((trange.minutes.value/datasplit)*60)/normseconds)\n",
    "\n",
    "tchunks = trange.split(datasplit)\n",
    "datas = np.array_split(raw.data, datasplit, axis=0)\n"
   ]
  },
  {
   "cell_type": "code",
   "execution_count": null,
   "metadata": {},
   "outputs": [],
   "source": []
  },
  {
   "cell_type": "code",
   "execution_count": null,
   "metadata": {},
   "outputs": [],
   "source": []
  },
  {
   "cell_type": "code",
   "execution_count": 7,
   "metadata": {},
   "outputs": [],
   "source": [
    "import ed_flagger as edf"
   ]
  },
  {
   "cell_type": "code",
   "execution_count": 8,
   "metadata": {},
   "outputs": [
    {
     "output_type": "error",
     "ename": "TypeError",
     "evalue": "basic_filter() missing 1 required positional argument: 'trigger_threshold'",
     "traceback": [
      "\u001b[0;31m---------------------------------------------------------------------------\u001b[0m",
      "\u001b[0;31mTypeError\u001b[0m                                 Traceback (most recent call last)",
      "\u001b[0;32m<ipython-input-8-eb503d51e084>\u001b[0m in \u001b[0;36m<module>\u001b[0;34m\u001b[0m\n\u001b[0;32m----> 1\u001b[0;31m \u001b[0mdf_filtered\u001b[0m \u001b[0;34m=\u001b[0m \u001b[0medf\u001b[0m\u001b[0;34m.\u001b[0m\u001b[0mbasic_filter\u001b[0m\u001b[0;34m(\u001b[0m\u001b[0mdatas\u001b[0m\u001b[0;34m[\u001b[0m\u001b[0;36m4\u001b[0m\u001b[0;34m]\u001b[0m\u001b[0;34m)\u001b[0m\u001b[0;34m\u001b[0m\u001b[0;34m\u001b[0m\u001b[0m\n\u001b[0m",
      "\u001b[0;31mTypeError\u001b[0m: basic_filter() missing 1 required positional argument: 'trigger_threshold'"
     ]
    }
   ],
   "source": [
    "df_filtered = edf.basic_filter(datas[4], 4.) #4 sigma"
   ]
  },
  {
   "cell_type": "code",
   "execution_count": null,
   "metadata": {},
   "outputs": [],
   "source": []
  }
 ]
}