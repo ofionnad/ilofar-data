{
 "metadata": {
  "language_info": {
   "codemirror_mode": {
    "name": "ipython",
    "version": 3
   },
   "file_extension": ".py",
   "mimetype": "text/x-python",
   "name": "python",
   "nbconvert_exporter": "python",
   "pygments_lexer": "ipython3",
   "version": "3.8.0-final"
  },
  "orig_nbformat": 2,
  "kernelspec": {
   "name": "jup-realta",
   "display_name": "jup-realta",
   "language": "python"
  }
 },
 "nbformat": 4,
 "nbformat_minor": 2,
 "cells": [
  {
   "cell_type": "code",
   "execution_count": 11,
   "metadata": {},
   "outputs": [],
   "source": [
    "#!/usr/bin/env python3\n",
    "import numpy as np\n",
    "import matplotlib.pyplot as plt\n",
    "import pandas as pd \n",
    "import astropy.units as u\n",
    "from sunpy.time import TimeRange\n",
    "import time\n",
    "import sys\n",
    "\n",
    "import datetime as dt\n",
    "import matplotlib.dates as mdates\n",
    "import matplotlib as mpl\n",
    "from mpl_toolkits.axes_grid1 import make_axes_locatable\n",
    "from matplotlib.colors import LogNorm\n",
    "from matplotlib import gridspec,transforms\n",
    "\n",
    "%matplotlib inline"
   ]
  },
  {
   "cell_type": "code",
   "execution_count": 12,
   "metadata": {},
   "outputs": [],
   "source": [
    "sys.path.insert(1, '../../20201013_jupiter/')\n",
    "from sk import LofarRaw\n",
    "\n",
    "\n",
    "#rcParams['agg.path.chunksize'] = 10000"
   ]
  },
  {
   "cell_type": "code",
   "execution_count": 13,
   "metadata": {},
   "outputs": [],
   "source": [
    "mpl.use('pdf')"
   ]
  },
  {
   "cell_type": "code",
   "execution_count": 30,
   "metadata": {},
   "outputs": [],
   "source": [
    "filename = '../udpoutput/cygA-stokesVectors_0_2020-12-15T20:00:00_19629667968374' #0 is I and 1 is V I assume\n",
    "frange = [15,30]\n",
    "sbs = np.arange(76,198)\n",
    "obs_mode = 3\n",
    "time_len_mins = 2.\n",
    "trange = TimeRange(filename.split('_')[-2], time_len_mins*u.min)\n",
    "xlabel = \"Time from {} {}\".format(filename.split('_')[-2].split('T')[0], filename.split('_')[-2].split('T')[1])\n",
    "ylabel = \"Frequency (MHz)\"\n",
    "title = filename.split('/')[2]"
   ]
  },
  {
   "cell_type": "code",
   "execution_count": 15,
   "metadata": {},
   "outputs": [],
   "source": [
    "#off_fname = '../udpoutput/offsource-stokesVectors_0_2020-12-15T20:04:00_19629670898060'\n",
    "#trange is the same for both beams\n",
    "#time_len_mins = 176.\n",
    "#offtrange = TimeRange(off_fname.split('_')[-2], time_len_mins*u.min)\n",
    "#offxlabel = \"Time from {} {}\".format(off_fname.split('_')[-2].split('T')[0], off_fname.split('_')[-2].split('T')[1])\n",
    "#offylabel = \"Frequency (MHz)\"\n",
    "#offtitle = off_fname.split('/')[2]"
   ]
  },
  {
   "cell_type": "code",
   "execution_count": 16,
   "metadata": {},
   "outputs": [
    {
     "output_type": "stream",
     "name": "stdout",
     "text": [
      "Time to read data: 0.000875s\n\n"
     ]
    }
   ],
   "source": [
    "# read in the data (stokes I or V from udpPM)\n",
    "raw = LofarRaw(fname=filename, sbs=sbs, obs_mode=obs_mode, frange=frange)\n",
    "raw.data = raw.data[:,:78] ###the rest of the subbands are empty because of the way ilofar/realta records data into the data lanes\n",
    "#offraw = LofarRaw(fname=off_fname, sbs=sbs, obs_mode=obs_mode, frange=frange)\n",
    "#offraw.data = offraw.data[:,:78]"
   ]
  },
  {
   "cell_type": "code",
   "execution_count": 17,
   "metadata": {},
   "outputs": [],
   "source": [
    "flimits = np.array([0,78])\n",
    "freqlimits = raw.sb_to_f(flimits+sbs[0], obs_mode)\n",
    "xlims = list(map(dt.datetime.fromisoformat, [trange.start.value, trange.end.value]))\n",
    "xlims = mdates.date2num(xlims)"
   ]
  },
  {
   "cell_type": "code",
   "execution_count": 18,
   "metadata": {},
   "outputs": [],
   "source": [
    "datasplit = 10\n",
    "normseconds = 42\n",
    "norm_splits = int(((trange.minutes.value/datasplit)*60)/normseconds)\n",
    "\n",
    "tchunks = trange.split(datasplit)\n",
    "#datas = np.array_split(raw.data, datasplit, axis=0)\n",
    "#offdatas = np.array_split(offraw.data, datasplit, axis=0)"
   ]
  },
  {
   "cell_type": "code",
   "execution_count": 31,
   "metadata": {},
   "outputs": [],
   "source": [
    "def plot_data(data, trange, flims, xlabel, ylabel, plotname):\n",
    "    f = plt.figure(figsize=(12,6))\n",
    "    f.set_facecolor('white')\n",
    "\n",
    "    spec = gridspec.GridSpec(ncols=2, nrows=2, width_ratios=[6,1], height_ratios=[1,4])\n",
    "    ax0 = f.add_subplot(spec[0])\n",
    "    ax2 = f.add_subplot(spec[2])\n",
    "    ax3 = f.add_subplot(spec[3])\n",
    "\n",
    "    xs = data.T.sum(axis=0)\n",
    "    ys = data.T.sum(axis=1)\n",
    "\n",
    "    ax0.plot(xs, lw=0.5)\n",
    "    ax0.set(xticklabels=[], xlim=[0,None])\n",
    "    ax0.tick_params(bottom=False)\n",
    "\n",
    "    rot = transforms.Affine2D().rotate_deg(270)\n",
    "    ax3.plot(ys[::-1], lw=0.5, transform=rot+plt.gca().transData)\n",
    "    ax3.set(yticklabels=[])\n",
    "    ax3.tick_params(left=False)\n",
    "\n",
    "    xlims = list(map(dt.datetime.fromisoformat, [trange.start.value, trange.end.value]))\n",
    "    xlims = mdates.date2num(xlims)\n",
    "\n",
    "    im = ax2.imshow(data.T, aspect='auto', origin='lower',\n",
    "            vmin=np.nanpercentile(data.T, 5), \n",
    "            vmax=np.nanpercentile(data.T, 90),\n",
    "            extent=[xlims[0], xlims[1], \n",
    "                    flims[0].value, flims[1].value])\n",
    "\n",
    "    ax2.xaxis_date()\n",
    "    date_format = mdates.DateFormatter('%H:%M:%S')\n",
    "    ax2.xaxis.set_major_formatter(date_format)\n",
    "\n",
    "    ax2.set_title(\"CygA observation - Stokes I\")\n",
    "    ax2.set_ylabel(ylabel, fontsize=14)\n",
    "    ax2.set_xlabel(xlabel, fontsize=14)\n",
    "\n",
    "    divider = make_axes_locatable(ax2)\n",
    "    cax = divider.append_axes(\"right\", size=\"3%\", pad=0.05)\n",
    "    plt.colorbar(im, cax=cax)\n",
    "\n",
    "    plt.tight_layout()\n",
    "    plt.savefig(plotname, dpi=900)"
   ]
  },
  {
   "cell_type": "code",
   "execution_count": 32,
   "metadata": {},
   "outputs": [],
   "source": [
    "datas = raw.data"
   ]
  },
  {
   "cell_type": "code",
   "execution_count": 33,
   "metadata": {},
   "outputs": [
    {
     "output_type": "stream",
     "name": "stdout",
     "text": [
      "\tData downsampled x1831\n\t Data shape: (801, 78)\n\tPlotting...\n\n"
     ]
    }
   ],
   "source": [
    "#print(\"Analysing chunk #{} of data\".format(i+1))\n",
    "\n",
    "#bg = np.true_divide(j, offdatas[i], out=np.zeros_like(j), where=offdatas[i]!=0) #bg removal... (?) I think\n",
    "\n",
    "#dec = 256\n",
    "#dec = 3662 # dec = 3662 gives a resolution of 150 ms\n",
    "#summed = np.cumsum(bg, axis=0)\n",
    "#dec_data = summed[dec::dec, :] - summed[:-dec:dec, :]\n",
    "\n",
    "dec = 1831 #resolution of 150ms for this method\n",
    "pad = np.ceil(float(datas.shape[0])/dec)*dec - datas.shape[0]\n",
    "pad_arr = np.zeros((int(pad), datas.shape[1]))*np.NaN\n",
    "bg_padded = np.append(datas, pad_arr).reshape(-1, datas.shape[1])\n",
    "dec_data = np.nanmean(bg_padded.T.reshape(datas.shape[1], -1, dec), axis=2).T\n",
    "\n",
    "#print('\\tData downsampled x{}'.format(int(dec/2)))\n",
    "print('\\tData downsampled x{}'.format(int(dec)))\n",
    "print('\\t Data shape: {}'.format(dec_data.shape))\n",
    "\n",
    "print(\"\\tPlotting...\\n\")\n",
    "plot_data(dec_data, trange, freqlimits, xlabel, ylabel, 'cygA_calibrator_plots/cyg_A_stokesI')"
   ]
  },
  {
   "cell_type": "code",
   "execution_count": null,
   "metadata": {},
   "outputs": [],
   "source": []
  }
 ]
}