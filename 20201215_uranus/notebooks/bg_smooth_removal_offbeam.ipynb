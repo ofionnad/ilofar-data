{
 "metadata": {
  "language_info": {
   "codemirror_mode": {
    "name": "ipython",
    "version": 3
   },
   "file_extension": ".py",
   "mimetype": "text/x-python",
   "name": "python",
   "nbconvert_exporter": "python",
   "pygments_lexer": "ipython3",
   "version": "3.8.0-final"
  },
  "orig_nbformat": 2,
  "kernelspec": {
   "name": "jup-realta",
   "display_name": "jup-realta",
   "language": "python"
  }
 },
 "nbformat": 4,
 "nbformat_minor": 2,
 "cells": [
  {
   "cell_type": "code",
   "execution_count": 1,
   "metadata": {},
   "outputs": [],
   "source": [
    "#!/usr/bin/env python3\n",
    "import numpy as np\n",
    "import matplotlib.pyplot as plt\n",
    "import pandas as pd \n",
    "import astropy.units as u\n",
    "from sunpy.time import TimeRange\n",
    "import time\n",
    "import sys\n",
    "\n",
    "import datetime as dt\n",
    "import matplotlib.dates as mdates\n",
    "import matplotlib as mpl\n",
    "from mpl_toolkits.axes_grid1 import make_axes_locatable\n",
    "from matplotlib.colors import LogNorm\n",
    "from matplotlib import gridspec,transforms\n",
    "\n",
    "%matplotlib inline"
   ]
  },
  {
   "cell_type": "code",
   "execution_count": 3,
   "metadata": {},
   "outputs": [],
   "source": [
    "sys.path.insert(1, '../../20201013_jupiter/')\n",
    "from sk import LofarRaw\n",
    "\n",
    "\n",
    "#rcParams['agg.path.chunksize'] = 10000"
   ]
  },
  {
   "cell_type": "code",
   "execution_count": 4,
   "metadata": {},
   "outputs": [
    {
     "output_type": "stream",
     "name": "stdout",
     "text": [
      "Using matplotlib backend: TkAgg\n",
      "tornado.application - ERROR - Exception in callback functools.partial(<function Kernel.enter_eventloop.<locals>.advance_eventloop at 0x7fc041532c10>)\n",
      "Traceback (most recent call last):\n",
      "  File \"/home/ofionnad/realta/lib/python3.8/site-packages/tornado/ioloop.py\", line 743, in _run_callback\n",
      "    ret = callback()\n",
      "  File \"/home/ofionnad/realta/lib/python3.8/site-packages/ipykernel/kernelbase.py\", line 314, in advance_eventloop\n",
      "    eventloop(self)\n",
      "  File \"/home/ofionnad/realta/lib/python3.8/site-packages/ipykernel/eventloops.py\", line 221, in loop_tk\n",
      "    app = Tk()\n",
      "  File \"/usr/local/lib/python3.8/tkinter/__init__.py\", line 2261, in __init__\n",
      "    self.tk = _tkinter.create(screenName, baseName, className, interactive, wantobjects, useTk, sync, use)\n",
      "_tkinter.TclError: couldn't connect to display \"localhost:11.0\"\n"
     ]
    }
   ],
   "source": [
    "%matplotlib"
   ]
  },
  {
   "cell_type": "code",
   "execution_count": 5,
   "metadata": {},
   "outputs": [],
   "source": [
    "filename = '../udpoutput/uranus-stokesVectors_0_2020-12-15T20:04:00_19629670898060' #0 is I and 1 is V I assume\n",
    "frange = [15,30]\n",
    "sbs = np.arange(76,198)\n",
    "obs_mode = 3\n",
    "time_len_mins = 176.\n",
    "trange = TimeRange(filename.split('_')[-2], time_len_mins*u.min)\n",
    "xlabel = \"Time from {} {}\".format(filename.split('_')[-2].split('T')[0], filename.split('_')[-2].split('T')[1])\n",
    "ylabel = \"Frequency (MHz)\"\n",
    "title = filename.split('/')[2]"
   ]
  },
  {
   "cell_type": "code",
   "execution_count": 6,
   "metadata": {},
   "outputs": [],
   "source": [
    "off_fname = '../udpoutput/offsource-stokesVectors_0_2020-12-15T20:04:00_19629670898060'\n",
    "#trange is the same for both beams\n",
    "#time_len_mins = 176.\n",
    "#offtrange = TimeRange(off_fname.split('_')[-2], time_len_mins*u.min)\n",
    "#offxlabel = \"Time from {} {}\".format(off_fname.split('_')[-2].split('T')[0], off_fname.split('_')[-2].split('T')[1])\n",
    "#offylabel = \"Frequency (MHz)\"\n",
    "#offtitle = off_fname.split('/')[2]"
   ]
  },
  {
   "cell_type": "code",
   "execution_count": 7,
   "metadata": {},
   "outputs": [
    {
     "output_type": "stream",
     "name": "stdout",
     "text": [
      "Time to read data: 0.000825s\n",
      "\n",
      "Time to read data: 0.000172s\n",
      "\n"
     ]
    }
   ],
   "source": [
    "# read in the data (stokes I or V from udpPM)\n",
    "raw = LofarRaw(fname=filename, sbs=sbs, obs_mode=obs_mode, frange=frange)\n",
    "raw.data = raw.data[:,:78] ###the rest of the subbands are empty because of the way ilofar/realta records data into the data lanes\n",
    "offraw = LofarRaw(fname=off_fname, sbs=sbs, obs_mode=obs_mode, frange=frange)\n",
    "offraw.data = offraw.data[:,:78]"
   ]
  },
  {
   "cell_type": "code",
   "execution_count": 8,
   "metadata": {},
   "outputs": [],
   "source": [
    "flimits = np.array([0,78])\n",
    "freqlimits = raw.sb_to_f(flimits+sbs[0], obs_mode)\n",
    "xlims = list(map(dt.datetime.fromisoformat, [trange.start.value, trange.end.value]))\n",
    "xlims = mdates.date2num(xlims)"
   ]
  },
  {
   "cell_type": "code",
   "execution_count": 9,
   "metadata": {},
   "outputs": [],
   "source": [
    "datasplit = 10\n",
    "normseconds = 42\n",
    "norm_splits = int(((trange.minutes.value/datasplit)*60)/normseconds)\n",
    "\n",
    "tchunks = trange.split(datasplit)\n",
    "datas = np.array_split(raw.data, datasplit, axis=0)\n",
    "offdatas = np.array_split(offraw.data, datasplit, axis=0)"
   ]
  },
  {
   "cell_type": "code",
   "execution_count": 19,
   "metadata": {},
   "outputs": [],
   "source": [
    "smooth_offs = []\n",
    "for i,j in enumerate(offdatas):\n",
    "    arrs = np.array_split(j, norm_splits)\n",
    "    for arr in arrs:\n",
    "        for i in np.arange(arr.shape[1]):\n",
    "            if np.any(np.isnan(arr[:,i])):\n",
    "                pass\n",
    "            else:\n",
    "                coeffs = np.polyfit(np.linspace(0, len(arr[:,i]), len(arr[:, i])), arr[:, i], 2)\n",
    "                ynew = np.poly1d(coeffs)\n",
    "                arr[:, i] = ynew(np.linspace(0, len(arr[:, i]), len(arr[:, i])))\n",
    "    smooth_offs.append(np.vstack(arrs))\n",
    "smooth_off = np.vstack(smooth_offs)"
   ]
  },
  {
   "cell_type": "code",
   "execution_count": 21,
   "metadata": {},
   "outputs": [
    {
     "output_type": "execute_result",
     "data": {
      "text/plain": [
       "(128906263, 78)"
      ]
     },
     "metadata": {},
     "execution_count": 21
    }
   ],
   "source": [
    "smooth_off.shape"
   ]
  },
  {
   "cell_type": "code",
   "execution_count": null,
   "metadata": {},
   "outputs": [],
   "source": [
    "arrs = np.array_split(offdatas, norm_splits)\n",
    "for arr in arrs:\n",
    "    for i in np.arange(arr.shape[1]):\n",
    "        if np.any(np.isnan(arr[:,i])):\n",
    "            pass\n",
    "        else:\n",
    "            coeffs = np.polyfit(np.linspace(0, len(arr[:,i]), len(arr[:, i])), arr[:, i], 2)\n",
    "            ynew = np.poly1d(coeffs)\n",
    "            arr[:, i] = ynew(np.linspace(0, len(arr[:, i]), len(arr[:, i])))\n",
    "datas = np.vstack(arrs)"
   ]
  },
  {
   "cell_type": "code",
   "execution_count": 9,
   "metadata": {},
   "outputs": [],
   "source": [
    "def plot_data(data, trange, flims, xlabel, ylabel, plotname):\n",
    "    f = plt.figure(figsize=(12,6))\n",
    "    f.set_facecolor('white')\n",
    "\n",
    "    spec = gridspec.GridSpec(ncols=2, nrows=2, width_ratios=[6,1], height_ratios=[1,4])\n",
    "    ax0 = f.add_subplot(spec[0])\n",
    "    ax2 = f.add_subplot(spec[2])\n",
    "    ax3 = f.add_subplot(spec[3])\n",
    "\n",
    "    xs = data.T.sum(axis=0)\n",
    "    ys = data.T.sum(axis=1)\n",
    "\n",
    "    ax0.plot(xs, lw=0.5)\n",
    "    ax0.set(xticklabels=[], xlim=[0,None])\n",
    "    ax0.tick_params(bottom=False)\n",
    "\n",
    "    rot = transforms.Affine2D().rotate_deg(270)\n",
    "    ax3.plot(ys[::-1], lw=0.5, transform=rot+plt.gca().transData)\n",
    "    ax3.set(yticklabels=[])\n",
    "    ax3.tick_params(left=False)\n",
    "\n",
    "    xlims = list(map(dt.datetime.fromisoformat, [trange.start.value, trange.end.value]))\n",
    "    xlims = mdates.date2num(xlims)\n",
    "\n",
    "    im = ax2.imshow(data.T, aspect='auto', origin='lower',\n",
    "            vmin=np.nanpercentile(data.T, 5), \n",
    "            vmax=np.nanpercentile(data.T, 90),\n",
    "            extent=[xlims[0], xlims[1], \n",
    "                    flims[0].value, flims[1].value])\n",
    "\n",
    "    ax2.xaxis_date()\n",
    "    date_format = mdates.DateFormatter('%H:%M:%S')\n",
    "    ax2.xaxis.set_major_formatter(date_format)\n",
    "\n",
    "    ax2.set_title(\"Uranus observation - Stokes I\")\n",
    "    ax2.set_ylabel(ylabel, fontsize=14)\n",
    "    ax2.set_xlabel(xlabel, fontsize=14)\n",
    "\n",
    "    divider = make_axes_locatable(ax2)\n",
    "    cax = divider.append_axes(\"right\", size=\"3%\", pad=0.05)\n",
    "    plt.colorbar(im, cax=cax)\n",
    "\n",
    "    plt.tight_layout()\n",
    "    plt.savefig(plotname, dpi=900)"
   ]
  },
  {
   "cell_type": "code",
   "execution_count": 45,
   "metadata": {},
   "outputs": [
    {
     "output_type": "stream",
     "name": "stdout",
     "text": [
      "Analysing chunk #1 of data\n",
      "(12892071, 78)\n",
      "\tData downsampled x1831\n",
      "\t Data shape: (7041, 78)\n",
      "\tPlotting...\n",
      "\n",
      "Analysing chunk #2 of data\n",
      "(12892071, 78)\n",
      "\tData downsampled x1831\n",
      "\t Data shape: (7041, 78)\n",
      "\tPlotting...\n",
      "\n",
      "Analysing chunk #3 of data\n",
      "(12892071, 78)\n",
      "\tData downsampled x1831\n",
      "\t Data shape: (7041, 78)\n",
      "\tPlotting...\n",
      "\n",
      "Analysing chunk #4 of data\n",
      "(12892071, 78)\n",
      "\tData downsampled x1831\n",
      "\t Data shape: (7041, 78)\n",
      "\tPlotting...\n",
      "\n",
      "Analysing chunk #5 of data\n",
      "(12892071, 78)\n",
      "\tData downsampled x1831\n",
      "\t Data shape: (7041, 78)\n",
      "\tPlotting...\n",
      "\n",
      "Analysing chunk #6 of data\n",
      "(12892071, 78)\n",
      "\tData downsampled x1831\n",
      "\t Data shape: (7041, 78)\n",
      "\tPlotting...\n",
      "\n",
      "Analysing chunk #7 of data\n",
      "(12892071, 78)\n",
      "\tData downsampled x1831\n",
      "\t Data shape: (7041, 78)\n",
      "\tPlotting...\n",
      "\n",
      "Analysing chunk #8 of data\n",
      "(12892071, 78)\n",
      "\tData downsampled x1831\n",
      "\t Data shape: (7041, 78)\n",
      "\tPlotting...\n",
      "\n",
      "Analysing chunk #9 of data\n",
      "(12892071, 78)\n",
      "\tData downsampled x1831\n",
      "\t Data shape: (7041, 78)\n",
      "\tPlotting...\n",
      "\n",
      "Analysing chunk #10 of data\n",
      "(12892071, 78)\n",
      "\tData downsampled x1831\n",
      "\t Data shape: (7041, 78)\n",
      "\tPlotting...\n",
      "\n"
     ]
    }
   ],
   "source": [
    "for i,j in enumerate(datas):\n",
    "    print(\"Analysing chunk #{} of data\".format(i+1))\n",
    "\n",
    "    bg = np.true_divide(j, offdatas[i], out=np.zeros_like(j), where=offdatas[i]!=0) #bg removal... (?) I think\n",
    "\n",
    "    #dec = 256\n",
    "    #dec = 3662 # dec = 3662 gives a resolution of 150 ms\n",
    "    #summed = np.cumsum(bg, axis=0)\n",
    "    #dec_data = summed[dec::dec, :] - summed[:-dec:dec, :]\n",
    "    dec = 1831\n",
    "    pad = np.ceil(float(bg.shape[0])/dec)*dec - bg.shape[0]\n",
    "    pad_arr = np.zeros((int(pad), bg.shape[1]))*np.NaN\n",
    "    bg_padded = np.append(bg, pad_arr).reshape(-1, bg.shape[1])\n",
    "    dec_data = np.nanmean(bg_padded.T.reshape(bg.shape[1], -1, dec), axis=2).T\n",
    "    \n",
    "    #print('\\tData downsampled x{}'.format(int(dec/2)))\n",
    "    print('\\tData downsampled x{}'.format(int(dec)))\n",
    "    print('\\t Data shape: {}'.format(dec_data.shape))\n",
    "\n",
    "    print(\"\\tPlotting...\\n\")\n",
    "    plot_data(dec_data, tchunks[i], freqlimits, xlabel, ylabel, 'bg_removal_with_off_stokesI/Uranus_remove_bg_{}'.format(i+1))"
   ]
  },
  {
   "cell_type": "code",
   "execution_count": null,
   "metadata": {},
   "outputs": [],
   "source": []
  },
  {
   "cell_type": "code",
   "execution_count": null,
   "metadata": {},
   "outputs": [],
   "source": []
  },
  {
   "cell_type": "code",
   "execution_count": 10,
   "metadata": {},
   "outputs": [],
   "source": [
    "bg = raw.data\n",
    "dec = 732421 #1 minute resolution\n",
    "pad = np.ceil(float(bg.shape[0])/dec)*dec - bg.shape[0]\n",
    "pad_arr = np.zeros((int(pad), bg.shape[1]))*np.NaN\n",
    "bg_padded = np.append(bg, pad_arr).reshape(-1, bg.shape[1])\n",
    "dec_data = np.nanmean(bg_padded.T.reshape(bg.shape[1], -1, dec), axis=2).T"
   ]
  },
  {
   "cell_type": "code",
   "execution_count": 11,
   "metadata": {},
   "outputs": [
    {
     "output_type": "execute_result",
     "data": {
      "text/plain": [
       "(177, 78)"
      ]
     },
     "metadata": {},
     "execution_count": 11
    }
   ],
   "source": [
    "dec_data.shape"
   ]
  },
  {
   "cell_type": "code",
   "execution_count": 12,
   "metadata": {},
   "outputs": [],
   "source": [
    "int_data = np.trapz(dec_data, axis=-1)"
   ]
  },
  {
   "cell_type": "code",
   "execution_count": 13,
   "metadata": {},
   "outputs": [
    {
     "output_type": "execute_result",
     "data": {
      "text/plain": [
       "(177,)"
      ]
     },
     "metadata": {},
     "execution_count": 13
    }
   ],
   "source": [
    "int_data.shape"
   ]
  },
  {
   "cell_type": "code",
   "execution_count": 27,
   "metadata": {},
   "outputs": [],
   "source": [
    "%matplotlib notebook"
   ]
  },
  {
   "cell_type": "code",
   "execution_count": 14,
   "metadata": {},
   "outputs": [
    {
     "output_type": "error",
     "ename": "TclError",
     "evalue": "couldn't connect to display \"localhost:11.0\"",
     "traceback": [
      "\u001b[0;31m---------------------------------------------------------------------------\u001b[0m",
      "\u001b[0;31mTclError\u001b[0m                                  Traceback (most recent call last)",
      "\u001b[0;32m<ipython-input-14-10b354961f4d>\u001b[0m in \u001b[0;36m<module>\u001b[0;34m\u001b[0m\n\u001b[0;32m----> 1\u001b[0;31m \u001b[0mplt\u001b[0m\u001b[0;34m.\u001b[0m\u001b[0mplot\u001b[0m\u001b[0;34m(\u001b[0m\u001b[0mint_data\u001b[0m\u001b[0;34m)\u001b[0m\u001b[0;34m\u001b[0m\u001b[0;34m\u001b[0m\u001b[0m\n\u001b[0m",
      "\u001b[0;32m~/realta/lib/python3.8/site-packages/matplotlib/pyplot.py\u001b[0m in \u001b[0;36mplot\u001b[0;34m(scalex, scaley, data, *args, **kwargs)\u001b[0m\n\u001b[1;32m   2838\u001b[0m \u001b[0;34m@\u001b[0m\u001b[0m_copy_docstring_and_deprecators\u001b[0m\u001b[0;34m(\u001b[0m\u001b[0mAxes\u001b[0m\u001b[0;34m.\u001b[0m\u001b[0mplot\u001b[0m\u001b[0;34m)\u001b[0m\u001b[0;34m\u001b[0m\u001b[0;34m\u001b[0m\u001b[0m\n\u001b[1;32m   2839\u001b[0m \u001b[0;32mdef\u001b[0m \u001b[0mplot\u001b[0m\u001b[0;34m(\u001b[0m\u001b[0;34m*\u001b[0m\u001b[0margs\u001b[0m\u001b[0;34m,\u001b[0m \u001b[0mscalex\u001b[0m\u001b[0;34m=\u001b[0m\u001b[0;32mTrue\u001b[0m\u001b[0;34m,\u001b[0m \u001b[0mscaley\u001b[0m\u001b[0;34m=\u001b[0m\u001b[0;32mTrue\u001b[0m\u001b[0;34m,\u001b[0m \u001b[0mdata\u001b[0m\u001b[0;34m=\u001b[0m\u001b[0;32mNone\u001b[0m\u001b[0;34m,\u001b[0m \u001b[0;34m**\u001b[0m\u001b[0mkwargs\u001b[0m\u001b[0;34m)\u001b[0m\u001b[0;34m:\u001b[0m\u001b[0;34m\u001b[0m\u001b[0;34m\u001b[0m\u001b[0m\n\u001b[0;32m-> 2840\u001b[0;31m     return gca().plot(\n\u001b[0m\u001b[1;32m   2841\u001b[0m         \u001b[0;34m*\u001b[0m\u001b[0margs\u001b[0m\u001b[0;34m,\u001b[0m \u001b[0mscalex\u001b[0m\u001b[0;34m=\u001b[0m\u001b[0mscalex\u001b[0m\u001b[0;34m,\u001b[0m \u001b[0mscaley\u001b[0m\u001b[0;34m=\u001b[0m\u001b[0mscaley\u001b[0m\u001b[0;34m,\u001b[0m\u001b[0;34m\u001b[0m\u001b[0;34m\u001b[0m\u001b[0m\n\u001b[1;32m   2842\u001b[0m         **({\"data\": data} if data is not None else {}), **kwargs)\n",
      "\u001b[0;32m~/realta/lib/python3.8/site-packages/matplotlib/pyplot.py\u001b[0m in \u001b[0;36mgca\u001b[0;34m(**kwargs)\u001b[0m\n\u001b[1;32m   2366\u001b[0m \u001b[0;34m@\u001b[0m\u001b[0m_copy_docstring_and_deprecators\u001b[0m\u001b[0;34m(\u001b[0m\u001b[0mFigure\u001b[0m\u001b[0;34m.\u001b[0m\u001b[0mgca\u001b[0m\u001b[0;34m)\u001b[0m\u001b[0;34m\u001b[0m\u001b[0;34m\u001b[0m\u001b[0m\n\u001b[1;32m   2367\u001b[0m \u001b[0;32mdef\u001b[0m \u001b[0mgca\u001b[0m\u001b[0;34m(\u001b[0m\u001b[0;34m**\u001b[0m\u001b[0mkwargs\u001b[0m\u001b[0;34m)\u001b[0m\u001b[0;34m:\u001b[0m\u001b[0;34m\u001b[0m\u001b[0;34m\u001b[0m\u001b[0m\n\u001b[0;32m-> 2368\u001b[0;31m     \u001b[0;32mreturn\u001b[0m \u001b[0mgcf\u001b[0m\u001b[0;34m(\u001b[0m\u001b[0;34m)\u001b[0m\u001b[0;34m.\u001b[0m\u001b[0mgca\u001b[0m\u001b[0;34m(\u001b[0m\u001b[0;34m**\u001b[0m\u001b[0mkwargs\u001b[0m\u001b[0;34m)\u001b[0m\u001b[0;34m\u001b[0m\u001b[0;34m\u001b[0m\u001b[0m\n\u001b[0m\u001b[1;32m   2369\u001b[0m \u001b[0;34m\u001b[0m\u001b[0m\n\u001b[1;32m   2370\u001b[0m \u001b[0;34m\u001b[0m\u001b[0m\n",
      "\u001b[0;32m~/realta/lib/python3.8/site-packages/matplotlib/pyplot.py\u001b[0m in \u001b[0;36mgcf\u001b[0;34m()\u001b[0m\n\u001b[1;32m    745\u001b[0m         \u001b[0;32mreturn\u001b[0m \u001b[0mfigManager\u001b[0m\u001b[0;34m.\u001b[0m\u001b[0mcanvas\u001b[0m\u001b[0;34m.\u001b[0m\u001b[0mfigure\u001b[0m\u001b[0;34m\u001b[0m\u001b[0;34m\u001b[0m\u001b[0m\n\u001b[1;32m    746\u001b[0m     \u001b[0;32melse\u001b[0m\u001b[0;34m:\u001b[0m\u001b[0;34m\u001b[0m\u001b[0;34m\u001b[0m\u001b[0m\n\u001b[0;32m--> 747\u001b[0;31m         \u001b[0;32mreturn\u001b[0m \u001b[0mfigure\u001b[0m\u001b[0;34m(\u001b[0m\u001b[0;34m)\u001b[0m\u001b[0;34m\u001b[0m\u001b[0;34m\u001b[0m\u001b[0m\n\u001b[0m\u001b[1;32m    748\u001b[0m \u001b[0;34m\u001b[0m\u001b[0m\n\u001b[1;32m    749\u001b[0m \u001b[0;34m\u001b[0m\u001b[0m\n",
      "\u001b[0;32m~/realta/lib/python3.8/site-packages/matplotlib/pyplot.py\u001b[0m in \u001b[0;36mfigure\u001b[0;34m(num, figsize, dpi, facecolor, edgecolor, frameon, FigureClass, clear, **kwargs)\u001b[0m\n\u001b[1;32m    685\u001b[0m             \u001b[0mdpi\u001b[0m \u001b[0;34m=\u001b[0m \u001b[0;36m72\u001b[0m\u001b[0;34m\u001b[0m\u001b[0;34m\u001b[0m\u001b[0m\n\u001b[1;32m    686\u001b[0m \u001b[0;34m\u001b[0m\u001b[0m\n\u001b[0;32m--> 687\u001b[0;31m         figManager = new_figure_manager(num, figsize=figsize,\n\u001b[0m\u001b[1;32m    688\u001b[0m                                         \u001b[0mdpi\u001b[0m\u001b[0;34m=\u001b[0m\u001b[0mdpi\u001b[0m\u001b[0;34m,\u001b[0m\u001b[0;34m\u001b[0m\u001b[0;34m\u001b[0m\u001b[0m\n\u001b[1;32m    689\u001b[0m                                         \u001b[0mfacecolor\u001b[0m\u001b[0;34m=\u001b[0m\u001b[0mfacecolor\u001b[0m\u001b[0;34m,\u001b[0m\u001b[0;34m\u001b[0m\u001b[0;34m\u001b[0m\u001b[0m\n",
      "\u001b[0;32m~/realta/lib/python3.8/site-packages/matplotlib/pyplot.py\u001b[0m in \u001b[0;36mnew_figure_manager\u001b[0;34m(*args, **kwargs)\u001b[0m\n\u001b[1;32m    313\u001b[0m     \u001b[0;34m\"\"\"Create a new figure manager instance.\"\"\"\u001b[0m\u001b[0;34m\u001b[0m\u001b[0;34m\u001b[0m\u001b[0m\n\u001b[1;32m    314\u001b[0m     \u001b[0m_warn_if_gui_out_of_main_thread\u001b[0m\u001b[0;34m(\u001b[0m\u001b[0;34m)\u001b[0m\u001b[0;34m\u001b[0m\u001b[0;34m\u001b[0m\u001b[0m\n\u001b[0;32m--> 315\u001b[0;31m     \u001b[0;32mreturn\u001b[0m \u001b[0m_backend_mod\u001b[0m\u001b[0;34m.\u001b[0m\u001b[0mnew_figure_manager\u001b[0m\u001b[0;34m(\u001b[0m\u001b[0;34m*\u001b[0m\u001b[0margs\u001b[0m\u001b[0;34m,\u001b[0m \u001b[0;34m**\u001b[0m\u001b[0mkwargs\u001b[0m\u001b[0;34m)\u001b[0m\u001b[0;34m\u001b[0m\u001b[0;34m\u001b[0m\u001b[0m\n\u001b[0m\u001b[1;32m    316\u001b[0m \u001b[0;34m\u001b[0m\u001b[0m\n\u001b[1;32m    317\u001b[0m \u001b[0;34m\u001b[0m\u001b[0m\n",
      "\u001b[0;32m~/realta/lib/python3.8/site-packages/matplotlib/backend_bases.py\u001b[0m in \u001b[0;36mnew_figure_manager\u001b[0;34m(cls, num, *args, **kwargs)\u001b[0m\n\u001b[1;32m   3492\u001b[0m         \u001b[0mfig_cls\u001b[0m \u001b[0;34m=\u001b[0m \u001b[0mkwargs\u001b[0m\u001b[0;34m.\u001b[0m\u001b[0mpop\u001b[0m\u001b[0;34m(\u001b[0m\u001b[0;34m'FigureClass'\u001b[0m\u001b[0;34m,\u001b[0m \u001b[0mFigure\u001b[0m\u001b[0;34m)\u001b[0m\u001b[0;34m\u001b[0m\u001b[0;34m\u001b[0m\u001b[0m\n\u001b[1;32m   3493\u001b[0m         \u001b[0mfig\u001b[0m \u001b[0;34m=\u001b[0m \u001b[0mfig_cls\u001b[0m\u001b[0;34m(\u001b[0m\u001b[0;34m*\u001b[0m\u001b[0margs\u001b[0m\u001b[0;34m,\u001b[0m \u001b[0;34m**\u001b[0m\u001b[0mkwargs\u001b[0m\u001b[0;34m)\u001b[0m\u001b[0;34m\u001b[0m\u001b[0;34m\u001b[0m\u001b[0m\n\u001b[0;32m-> 3494\u001b[0;31m         \u001b[0;32mreturn\u001b[0m \u001b[0mcls\u001b[0m\u001b[0;34m.\u001b[0m\u001b[0mnew_figure_manager_given_figure\u001b[0m\u001b[0;34m(\u001b[0m\u001b[0mnum\u001b[0m\u001b[0;34m,\u001b[0m \u001b[0mfig\u001b[0m\u001b[0;34m)\u001b[0m\u001b[0;34m\u001b[0m\u001b[0;34m\u001b[0m\u001b[0m\n\u001b[0m\u001b[1;32m   3495\u001b[0m \u001b[0;34m\u001b[0m\u001b[0m\n\u001b[1;32m   3496\u001b[0m     \u001b[0;34m@\u001b[0m\u001b[0mclassmethod\u001b[0m\u001b[0;34m\u001b[0m\u001b[0;34m\u001b[0m\u001b[0m\n",
      "\u001b[0;32m~/realta/lib/python3.8/site-packages/matplotlib/backends/_backend_tk.py\u001b[0m in \u001b[0;36mnew_figure_manager_given_figure\u001b[0;34m(cls, num, figure)\u001b[0m\n\u001b[1;32m    883\u001b[0m         \"\"\"\n\u001b[1;32m    884\u001b[0m         \u001b[0;32mwith\u001b[0m \u001b[0m_restore_foreground_window_at_end\u001b[0m\u001b[0;34m(\u001b[0m\u001b[0;34m)\u001b[0m\u001b[0;34m:\u001b[0m\u001b[0;34m\u001b[0m\u001b[0;34m\u001b[0m\u001b[0m\n\u001b[0;32m--> 885\u001b[0;31m             \u001b[0mwindow\u001b[0m \u001b[0;34m=\u001b[0m \u001b[0mtk\u001b[0m\u001b[0;34m.\u001b[0m\u001b[0mTk\u001b[0m\u001b[0;34m(\u001b[0m\u001b[0mclassName\u001b[0m\u001b[0;34m=\u001b[0m\u001b[0;34m\"matplotlib\"\u001b[0m\u001b[0;34m)\u001b[0m\u001b[0;34m\u001b[0m\u001b[0;34m\u001b[0m\u001b[0m\n\u001b[0m\u001b[1;32m    886\u001b[0m             \u001b[0mwindow\u001b[0m\u001b[0;34m.\u001b[0m\u001b[0mwithdraw\u001b[0m\u001b[0;34m(\u001b[0m\u001b[0;34m)\u001b[0m\u001b[0;34m\u001b[0m\u001b[0;34m\u001b[0m\u001b[0m\n\u001b[1;32m    887\u001b[0m \u001b[0;34m\u001b[0m\u001b[0m\n",
      "\u001b[0;32m/usr/local/lib/python3.8/tkinter/__init__.py\u001b[0m in \u001b[0;36m__init__\u001b[0;34m(self, screenName, baseName, className, useTk, sync, use)\u001b[0m\n\u001b[1;32m   2259\u001b[0m                 \u001b[0mbaseName\u001b[0m \u001b[0;34m=\u001b[0m \u001b[0mbaseName\u001b[0m \u001b[0;34m+\u001b[0m \u001b[0mext\u001b[0m\u001b[0;34m\u001b[0m\u001b[0;34m\u001b[0m\u001b[0m\n\u001b[1;32m   2260\u001b[0m         \u001b[0minteractive\u001b[0m \u001b[0;34m=\u001b[0m \u001b[0;36m0\u001b[0m\u001b[0;34m\u001b[0m\u001b[0;34m\u001b[0m\u001b[0m\n\u001b[0;32m-> 2261\u001b[0;31m         \u001b[0mself\u001b[0m\u001b[0;34m.\u001b[0m\u001b[0mtk\u001b[0m \u001b[0;34m=\u001b[0m \u001b[0m_tkinter\u001b[0m\u001b[0;34m.\u001b[0m\u001b[0mcreate\u001b[0m\u001b[0;34m(\u001b[0m\u001b[0mscreenName\u001b[0m\u001b[0;34m,\u001b[0m \u001b[0mbaseName\u001b[0m\u001b[0;34m,\u001b[0m \u001b[0mclassName\u001b[0m\u001b[0;34m,\u001b[0m \u001b[0minteractive\u001b[0m\u001b[0;34m,\u001b[0m \u001b[0mwantobjects\u001b[0m\u001b[0;34m,\u001b[0m \u001b[0museTk\u001b[0m\u001b[0;34m,\u001b[0m \u001b[0msync\u001b[0m\u001b[0;34m,\u001b[0m \u001b[0muse\u001b[0m\u001b[0;34m)\u001b[0m\u001b[0;34m\u001b[0m\u001b[0;34m\u001b[0m\u001b[0m\n\u001b[0m\u001b[1;32m   2262\u001b[0m         \u001b[0;32mif\u001b[0m \u001b[0museTk\u001b[0m\u001b[0;34m:\u001b[0m\u001b[0;34m\u001b[0m\u001b[0;34m\u001b[0m\u001b[0m\n\u001b[1;32m   2263\u001b[0m             \u001b[0mself\u001b[0m\u001b[0;34m.\u001b[0m\u001b[0m_loadtk\u001b[0m\u001b[0;34m(\u001b[0m\u001b[0;34m)\u001b[0m\u001b[0;34m\u001b[0m\u001b[0;34m\u001b[0m\u001b[0m\n",
      "\u001b[0;31mTclError\u001b[0m: couldn't connect to display \"localhost:11.0\""
     ]
    }
   ],
   "source": [
    "plt.plot(int_data)"
   ]
  },
  {
   "cell_type": "code",
   "execution_count": null,
   "metadata": {},
   "outputs": [],
   "source": []
  }
 ]
}