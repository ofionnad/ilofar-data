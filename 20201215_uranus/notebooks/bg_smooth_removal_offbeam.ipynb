{
 "metadata": {
  "language_info": {
   "codemirror_mode": {
    "name": "ipython",
    "version": 3
   },
   "file_extension": ".py",
   "mimetype": "text/x-python",
   "name": "python",
   "nbconvert_exporter": "python",
   "pygments_lexer": "ipython3",
   "version": "3.8.0-final"
  },
  "orig_nbformat": 2,
  "kernelspec": {
   "name": "jup-realta",
   "display_name": "jup-realta",
   "language": "python"
  }
 },
 "nbformat": 4,
 "nbformat_minor": 2,
 "cells": [
  {
   "cell_type": "code",
   "execution_count": 1,
   "metadata": {},
   "outputs": [],
   "source": [
    "#!/usr/bin/env python3\n",
    "import numpy as np\n",
    "import matplotlib.pyplot as plt\n",
    "import pandas as pd \n",
    "import astropy.units as u\n",
    "from sunpy.time import TimeRange\n",
    "import time\n",
    "import sys\n",
    "\n",
    "import datetime as dt\n",
    "import matplotlib.dates as mdates\n",
    "import matplotlib as mpl\n",
    "from mpl_toolkits.axes_grid1 import make_axes_locatable\n",
    "from matplotlib.colors import LogNorm\n",
    "from matplotlib import gridspec,transforms\n",
    "\n",
    "%matplotlib inline"
   ]
  },
  {
   "cell_type": "code",
   "execution_count": 2,
   "metadata": {},
   "outputs": [],
   "source": [
    "sys.path.insert(1, '../../20201013_jupiter/')\n",
    "from sk import LofarRaw\n",
    "\n",
    "\n",
    "#rcParams['agg.path.chunksize'] = 10000"
   ]
  },
  {
   "cell_type": "code",
   "execution_count": 3,
   "metadata": {},
   "outputs": [],
   "source": [
    "mpl.use('nbagg')\n",
    "import matplotlib.pyplot as plt"
   ]
  },
  {
   "cell_type": "code",
   "execution_count": 4,
   "metadata": {},
   "outputs": [
    {
     "output_type": "stream",
     "name": "stdout",
     "text": [
      "['mixed', 'webagg', 'gtk3', 'pgf', 'ps', 'wxcairo', 'tkagg', 'gtk3agg', 'wx', 'macosx', 'wxagg', 'qt4cairo', 'qt5cairo', 'tkcairo', 'qt5agg', 'gtk3cairo', 'agg', 'qt5', 'cairo', 'qt4', 'nbagg', 'pdf', 'webagg_core', 'svg', 'qt4agg', 'template']\n"
     ]
    }
   ],
   "source": [
    "import matplotlib.backends\n",
    "import os.path\n",
    "\n",
    "def is_backend_module(fname):\n",
    "    \"\"\"Identifies if a filename is a matplotlib backend module\"\"\"\n",
    "    return fname.startswith('backend_') and fname.endswith('.py')\n",
    "\n",
    "def backend_fname_formatter(fname): \n",
    "    \"\"\"Removes the extension of the given filename, then takes away the leading 'backend_'.\"\"\"\n",
    "    return os.path.splitext(fname)[0][8:]\n",
    "\n",
    "# get the directory where the backends live\n",
    "backends_dir = os.path.dirname(matplotlib.backends.__file__)\n",
    "\n",
    "# filter all files in that directory to identify all files which provide a backend\n",
    "backend_fnames = filter(is_backend_module, os.listdir(backends_dir))\n",
    "\n",
    "backends = [backend_fname_formatter(fname) for fname in backend_fnames]\n",
    "\n",
    "print(backends)"
   ]
  },
  {
   "cell_type": "code",
   "execution_count": 5,
   "metadata": {},
   "outputs": [],
   "source": [
    "filename = '../udpoutput/uranus-stokesVectors_0_2020-12-15T20:04:00_19629670898060' #0 is I and 1 is V I assume\n",
    "frange = [15,30]\n",
    "sbs = np.arange(76,198)\n",
    "obs_mode = 3\n",
    "time_len_mins = 176.\n",
    "trange = TimeRange(filename.split('_')[-2], time_len_mins*u.min)\n",
    "xlabel = \"Time from {} {}\".format(filename.split('_')[-2].split('T')[0], filename.split('_')[-2].split('T')[1])\n",
    "ylabel = \"Frequency (MHz)\"\n",
    "title = filename.split('/')[2]"
   ]
  },
  {
   "cell_type": "code",
   "execution_count": 6,
   "metadata": {},
   "outputs": [],
   "source": [
    "off_fname = '../udpoutput/offsource-stokesVectors_0_2020-12-15T20:04:00_19629670898060'\n",
    "#trange is the same for both beams\n",
    "#time_len_mins = 176.\n",
    "#offtrange = TimeRange(off_fname.split('_')[-2], time_len_mins*u.min)\n",
    "#offxlabel = \"Time from {} {}\".format(off_fname.split('_')[-2].split('T')[0], off_fname.split('_')[-2].split('T')[1])\n",
    "#offylabel = \"Frequency (MHz)\"\n",
    "#offtitle = off_fname.split('/')[2]"
   ]
  },
  {
   "cell_type": "code",
   "execution_count": 7,
   "metadata": {},
   "outputs": [
    {
     "output_type": "stream",
     "name": "stdout",
     "text": [
      "Time to read data: 0.000872s\n",
      "\n",
      "Time to read data: 0.000158s\n",
      "\n"
     ]
    }
   ],
   "source": [
    "# read in the data (stokes I or V from udpPM)\n",
    "raw = LofarRaw(fname=filename, sbs=sbs, obs_mode=obs_mode, frange=frange)\n",
    "raw.data = raw.data[:,:78] ###the rest of the subbands are empty because of the way ilofar/realta records data into the data lanes\n",
    "offraw = LofarRaw(fname=off_fname, sbs=sbs, obs_mode=obs_mode, frange=frange)\n",
    "offraw.data = offraw.data[:,:78]"
   ]
  },
  {
   "cell_type": "code",
   "execution_count": 8,
   "metadata": {},
   "outputs": [],
   "source": [
    "flimits = np.array([0,78])\n",
    "freqlimits = raw.sb_to_f(flimits+sbs[0], obs_mode)\n",
    "xlims = list(map(dt.datetime.fromisoformat, [trange.start.value, trange.end.value]))\n",
    "xlims = mdates.date2num(xlims)"
   ]
  },
  {
   "cell_type": "code",
   "execution_count": 9,
   "metadata": {},
   "outputs": [],
   "source": [
    "datasplit = 10\n",
    "normseconds = 42\n",
    "norm_splits = int(((trange.minutes.value/datasplit)*60)/normseconds)\n",
    "\n",
    "tchunks = trange.split(datasplit)\n",
    "datas = np.array_split(raw.data, datasplit, axis=0)\n",
    "offdatas = np.array_split(offraw.data, datasplit, axis=0)"
   ]
  },
  {
   "cell_type": "code",
   "execution_count": 19,
   "metadata": {},
   "outputs": [],
   "source": [
    "smooth_offs = []\n",
    "for i,j in enumerate(offdatas):\n",
    "    arrs = np.array_split(j, norm_splits)\n",
    "    for arr in arrs:\n",
    "        for i in np.arange(arr.shape[1]):\n",
    "            if np.any(np.isnan(arr[:,i])):\n",
    "                pass\n",
    "            else:\n",
    "                coeffs = np.polyfit(np.linspace(0, len(arr[:,i]), len(arr[:, i])), arr[:, i], 2)\n",
    "                ynew = np.poly1d(coeffs)\n",
    "                arr[:, i] = ynew(np.linspace(0, len(arr[:, i]), len(arr[:, i])))\n",
    "    smooth_offs.append(np.vstack(arrs))\n",
    "smooth_off = np.vstack(smooth_offs)"
   ]
  },
  {
   "cell_type": "code",
   "execution_count": 21,
   "metadata": {},
   "outputs": [
    {
     "output_type": "execute_result",
     "data": {
      "text/plain": [
       "(128906263, 78)"
      ]
     },
     "metadata": {},
     "execution_count": 21
    }
   ],
   "source": [
    "smooth_off.shape"
   ]
  },
  {
   "cell_type": "code",
   "execution_count": null,
   "metadata": {},
   "outputs": [],
   "source": [
    "arrs = np.array_split(offdatas, norm_splits)\n",
    "for arr in arrs:\n",
    "    for i in np.arange(arr.shape[1]):\n",
    "        if np.any(np.isnan(arr[:,i])):\n",
    "            pass\n",
    "        else:\n",
    "            coeffs = np.polyfit(np.linspace(0, len(arr[:,i]), len(arr[:, i])), arr[:, i], 2)\n",
    "            ynew = np.poly1d(coeffs)\n",
    "            arr[:, i] = ynew(np.linspace(0, len(arr[:, i]), len(arr[:, i])))\n",
    "datas = np.vstack(arrs)"
   ]
  },
  {
   "cell_type": "code",
   "execution_count": 9,
   "metadata": {},
   "outputs": [],
   "source": [
    "def plot_data(data, trange, flims, xlabel, ylabel, plotname):\n",
    "    f = plt.figure(figsize=(12,6))\n",
    "    f.set_facecolor('white')\n",
    "\n",
    "    spec = gridspec.GridSpec(ncols=2, nrows=2, width_ratios=[6,1], height_ratios=[1,4])\n",
    "    ax0 = f.add_subplot(spec[0])\n",
    "    ax2 = f.add_subplot(spec[2])\n",
    "    ax3 = f.add_subplot(spec[3])\n",
    "\n",
    "    xs = data.T.sum(axis=0)\n",
    "    ys = data.T.sum(axis=1)\n",
    "\n",
    "    ax0.plot(xs, lw=0.5)\n",
    "    ax0.set(xticklabels=[], xlim=[0,None])\n",
    "    ax0.tick_params(bottom=False)\n",
    "\n",
    "    rot = transforms.Affine2D().rotate_deg(270)\n",
    "    ax3.plot(ys[::-1], lw=0.5, transform=rot+plt.gca().transData)\n",
    "    ax3.set(yticklabels=[])\n",
    "    ax3.tick_params(left=False)\n",
    "\n",
    "    xlims = list(map(dt.datetime.fromisoformat, [trange.start.value, trange.end.value]))\n",
    "    xlims = mdates.date2num(xlims)\n",
    "\n",
    "    im = ax2.imshow(data.T, aspect='auto', origin='lower',\n",
    "            vmin=np.nanpercentile(data.T, 5), \n",
    "            vmax=np.nanpercentile(data.T, 90),\n",
    "            extent=[xlims[0], xlims[1], \n",
    "                    flims[0].value, flims[1].value])\n",
    "\n",
    "    ax2.xaxis_date()\n",
    "    date_format = mdates.DateFormatter('%H:%M:%S')\n",
    "    ax2.xaxis.set_major_formatter(date_format)\n",
    "\n",
    "    ax2.set_title(\"Uranus observation - Stokes I\")\n",
    "    ax2.set_ylabel(ylabel, fontsize=14)\n",
    "    ax2.set_xlabel(xlabel, fontsize=14)\n",
    "\n",
    "    divider = make_axes_locatable(ax2)\n",
    "    cax = divider.append_axes(\"right\", size=\"3%\", pad=0.05)\n",
    "    plt.colorbar(im, cax=cax)\n",
    "\n",
    "    plt.tight_layout()\n",
    "    plt.savefig(plotname, dpi=900)"
   ]
  },
  {
   "cell_type": "code",
   "execution_count": 45,
   "metadata": {},
   "outputs": [
    {
     "output_type": "stream",
     "name": "stdout",
     "text": [
      "Analysing chunk #1 of data\n",
      "(12892071, 78)\n",
      "\tData downsampled x1831\n",
      "\t Data shape: (7041, 78)\n",
      "\tPlotting...\n",
      "\n",
      "Analysing chunk #2 of data\n",
      "(12892071, 78)\n",
      "\tData downsampled x1831\n",
      "\t Data shape: (7041, 78)\n",
      "\tPlotting...\n",
      "\n",
      "Analysing chunk #3 of data\n",
      "(12892071, 78)\n",
      "\tData downsampled x1831\n",
      "\t Data shape: (7041, 78)\n",
      "\tPlotting...\n",
      "\n",
      "Analysing chunk #4 of data\n",
      "(12892071, 78)\n",
      "\tData downsampled x1831\n",
      "\t Data shape: (7041, 78)\n",
      "\tPlotting...\n",
      "\n",
      "Analysing chunk #5 of data\n",
      "(12892071, 78)\n",
      "\tData downsampled x1831\n",
      "\t Data shape: (7041, 78)\n",
      "\tPlotting...\n",
      "\n",
      "Analysing chunk #6 of data\n",
      "(12892071, 78)\n",
      "\tData downsampled x1831\n",
      "\t Data shape: (7041, 78)\n",
      "\tPlotting...\n",
      "\n",
      "Analysing chunk #7 of data\n",
      "(12892071, 78)\n",
      "\tData downsampled x1831\n",
      "\t Data shape: (7041, 78)\n",
      "\tPlotting...\n",
      "\n",
      "Analysing chunk #8 of data\n",
      "(12892071, 78)\n",
      "\tData downsampled x1831\n",
      "\t Data shape: (7041, 78)\n",
      "\tPlotting...\n",
      "\n",
      "Analysing chunk #9 of data\n",
      "(12892071, 78)\n",
      "\tData downsampled x1831\n",
      "\t Data shape: (7041, 78)\n",
      "\tPlotting...\n",
      "\n",
      "Analysing chunk #10 of data\n",
      "(12892071, 78)\n",
      "\tData downsampled x1831\n",
      "\t Data shape: (7041, 78)\n",
      "\tPlotting...\n",
      "\n"
     ]
    }
   ],
   "source": [
    "for i,j in enumerate(datas):\n",
    "    print(\"Analysing chunk #{} of data\".format(i+1))\n",
    "\n",
    "    bg = np.true_divide(j, offdatas[i], out=np.zeros_like(j), where=offdatas[i]!=0) #bg removal... (?) I think\n",
    "\n",
    "    #dec = 256\n",
    "    #dec = 3662 # dec = 3662 gives a resolution of 150 ms\n",
    "    #summed = np.cumsum(bg, axis=0)\n",
    "    #dec_data = summed[dec::dec, :] - summed[:-dec:dec, :]\n",
    "    dec = 1831\n",
    "    pad = np.ceil(float(bg.shape[0])/dec)*dec - bg.shape[0]\n",
    "    pad_arr = np.zeros((int(pad), bg.shape[1]))*np.NaN\n",
    "    bg_padded = np.append(bg, pad_arr).reshape(-1, bg.shape[1])\n",
    "    dec_data = np.nanmean(bg_padded.T.reshape(bg.shape[1], -1, dec), axis=2).T\n",
    "    \n",
    "    #print('\\tData downsampled x{}'.format(int(dec/2)))\n",
    "    print('\\tData downsampled x{}'.format(int(dec)))\n",
    "    print('\\t Data shape: {}'.format(dec_data.shape))\n",
    "\n",
    "    print(\"\\tPlotting...\\n\")\n",
    "    plot_data(dec_data, tchunks[i], freqlimits, xlabel, ylabel, 'bg_removal_with_off_stokesI/Uranus_remove_bg_{}'.format(i+1))"
   ]
  },
  {
   "cell_type": "code",
   "execution_count": null,
   "metadata": {},
   "outputs": [],
   "source": []
  },
  {
   "cell_type": "code",
   "execution_count": null,
   "metadata": {},
   "outputs": [],
   "source": []
  },
  {
   "cell_type": "code",
   "execution_count": 9,
   "metadata": {},
   "outputs": [],
   "source": [
    "bg = raw.data\n",
    "dec = 732421 #1 minute resolution\n",
    "pad = np.ceil(float(bg.shape[0])/dec)*dec - bg.shape[0]\n",
    "pad_arr = np.zeros((int(pad), bg.shape[1]))*np.NaN\n",
    "bg_padded = np.append(bg, pad_arr).reshape(-1, bg.shape[1])\n",
    "dec_data = np.nanmean(bg_padded.T.reshape(bg.shape[1], -1, dec), axis=2).T\n"
   ]
  },
  {
   "cell_type": "code",
   "execution_count": 10,
   "metadata": {},
   "outputs": [],
   "source": [
    "bg = offraw.data\n",
    "dec = 732421 #1 minute resolution\n",
    "pad = np.ceil(float(bg.shape[0])/dec)*dec - bg.shape[0]\n",
    "pad_arr = np.zeros((int(pad), bg.shape[1]))*np.NaN\n",
    "bg_padded = np.append(bg, pad_arr).reshape(-1, bg.shape[1])\n",
    "dec_offdata = np.nanmean(bg_padded.T.reshape(bg.shape[1], -1, dec), axis=2).T"
   ]
  },
  {
   "cell_type": "code",
   "execution_count": 11,
   "metadata": {},
   "outputs": [
    {
     "output_type": "execute_result",
     "data": {
      "text/plain": [
       "(177, 78)"
      ]
     },
     "metadata": {},
     "execution_count": 11
    }
   ],
   "source": [
    "dec_data.shape"
   ]
  },
  {
   "cell_type": "code",
   "execution_count": 11,
   "metadata": {},
   "outputs": [],
   "source": [
    "int_data = np.trapz(dec_data, axis=-1)"
   ]
  },
  {
   "cell_type": "code",
   "execution_count": 12,
   "metadata": {},
   "outputs": [],
   "source": [
    "int_offdata = np.trapz(dec_offdata, axis=-1)"
   ]
  },
  {
   "cell_type": "code",
   "execution_count": 13,
   "metadata": {},
   "outputs": [
    {
     "output_type": "execute_result",
     "data": {
      "text/plain": [
       "(177,)"
      ]
     },
     "metadata": {},
     "execution_count": 13
    }
   ],
   "source": [
    "int_data.shape"
   ]
  },
  {
   "cell_type": "code",
   "execution_count": 14,
   "metadata": {},
   "outputs": [],
   "source": [
    "%matplotlib inline"
   ]
  },
  {
   "cell_type": "code",
   "execution_count": 15,
   "metadata": {},
   "outputs": [
    {
     "output_type": "execute_result",
     "data": {
      "text/plain": [
       "Text(0.5, 0, 'Time (minutes)')"
      ]
     },
     "metadata": {},
     "execution_count": 15
    },
    {
     "output_type": "display_data",
     "data": {
      "text/plain": "<Figure size 432x288 with 1 Axes>",
      "image/svg+xml": "<?xml version=\"1.0\" encoding=\"utf-8\" standalone=\"no\"?>\n<!DOCTYPE svg PUBLIC \"-//W3C//DTD SVG 1.1//EN\"\n  \"http://www.w3.org/Graphics/SVG/1.1/DTD/svg11.dtd\">\n<!-- Created with matplotlib (https://matplotlib.org/) -->\n<svg height=\"272.794688pt\" version=\"1.1\" viewBox=\"0 0 385.78125 272.794688\" width=\"385.78125pt\" xmlns=\"http://www.w3.org/2000/svg\" xmlns:xlink=\"http://www.w3.org/1999/xlink\">\n <metadata>\n  <rdf:RDF xmlns:cc=\"http://creativecommons.org/ns#\" xmlns:dc=\"http://purl.org/dc/elements/1.1/\" xmlns:rdf=\"http://www.w3.org/1999/02/22-rdf-syntax-ns#\">\n   <cc:Work>\n    <dc:type rdf:resource=\"http://purl.org/dc/dcmitype/StillImage\"/>\n    <dc:date>2021-01-18T10:32:06.530221</dc:date>\n    <dc:format>image/svg+xml</dc:format>\n    <dc:creator>\n     <cc:Agent>\n      <dc:title>Matplotlib v3.3.2, https://matplotlib.org/</dc:title>\n     </cc:Agent>\n    </dc:creator>\n   </cc:Work>\n  </rdf:RDF>\n </metadata>\n <defs>\n  <style type=\"text/css\">*{stroke-linecap:butt;stroke-linejoin:round;}</style>\n </defs>\n <g id=\"figure_1\">\n  <g id=\"patch_1\">\n   <path d=\"M 0 272.794688 \nL 385.78125 272.794688 \nL 385.78125 0 \nL 0 0 \nz\n\" style=\"fill:none;\"/>\n  </g>\n  <g id=\"axes_1\">\n   <g id=\"patch_2\">\n    <path d=\"M 43.78125 235.238438 \nL 378.58125 235.238438 \nL 378.58125 17.798438 \nL 43.78125 17.798438 \nz\n\" style=\"fill:#ffffff;\"/>\n   </g>\n   <g id=\"matplotlib.axis_1\">\n    <g id=\"xtick_1\">\n     <g id=\"line2d_1\">\n      <defs>\n       <path d=\"M 0 0 \nL 0 3.5 \n\" id=\"m1e366a28e7\" style=\"stroke:#000000;stroke-width:0.8;\"/>\n      </defs>\n      <g>\n       <use style=\"stroke:#000000;stroke-width:0.8;\" x=\"58.999432\" xlink:href=\"#m1e366a28e7\" y=\"235.238438\"/>\n      </g>\n     </g>\n     <g id=\"text_1\">\n      <!-- 0 -->\n      <g transform=\"translate(55.818182 249.836875)scale(0.1 -0.1)\">\n       <defs>\n        <path d=\"M 31.78125 66.40625 \nQ 24.171875 66.40625 20.328125 58.90625 \nQ 16.5 51.421875 16.5 36.375 \nQ 16.5 21.390625 20.328125 13.890625 \nQ 24.171875 6.390625 31.78125 6.390625 \nQ 39.453125 6.390625 43.28125 13.890625 \nQ 47.125 21.390625 47.125 36.375 \nQ 47.125 51.421875 43.28125 58.90625 \nQ 39.453125 66.40625 31.78125 66.40625 \nz\nM 31.78125 74.21875 \nQ 44.046875 74.21875 50.515625 64.515625 \nQ 56.984375 54.828125 56.984375 36.375 \nQ 56.984375 17.96875 50.515625 8.265625 \nQ 44.046875 -1.421875 31.78125 -1.421875 \nQ 19.53125 -1.421875 13.0625 8.265625 \nQ 6.59375 17.96875 6.59375 36.375 \nQ 6.59375 54.828125 13.0625 64.515625 \nQ 19.53125 74.21875 31.78125 74.21875 \nz\n\" id=\"DejaVuSans-48\"/>\n       </defs>\n       <use xlink:href=\"#DejaVuSans-48\"/>\n      </g>\n     </g>\n    </g>\n    <g id=\"xtick_2\">\n     <g id=\"line2d_2\">\n      <g>\n       <use style=\"stroke:#000000;stroke-width:0.8;\" x=\"102.232903\" xlink:href=\"#m1e366a28e7\" y=\"235.238438\"/>\n      </g>\n     </g>\n     <g id=\"text_2\">\n      <!-- 25 -->\n      <g transform=\"translate(95.870403 249.836875)scale(0.1 -0.1)\">\n       <defs>\n        <path d=\"M 19.1875 8.296875 \nL 53.609375 8.296875 \nL 53.609375 0 \nL 7.328125 0 \nL 7.328125 8.296875 \nQ 12.9375 14.109375 22.625 23.890625 \nQ 32.328125 33.6875 34.8125 36.53125 \nQ 39.546875 41.84375 41.421875 45.53125 \nQ 43.3125 49.21875 43.3125 52.78125 \nQ 43.3125 58.59375 39.234375 62.25 \nQ 35.15625 65.921875 28.609375 65.921875 \nQ 23.96875 65.921875 18.8125 64.3125 \nQ 13.671875 62.703125 7.8125 59.421875 \nL 7.8125 69.390625 \nQ 13.765625 71.78125 18.9375 73 \nQ 24.125 74.21875 28.421875 74.21875 \nQ 39.75 74.21875 46.484375 68.546875 \nQ 53.21875 62.890625 53.21875 53.421875 \nQ 53.21875 48.921875 51.53125 44.890625 \nQ 49.859375 40.875 45.40625 35.40625 \nQ 44.1875 33.984375 37.640625 27.21875 \nQ 31.109375 20.453125 19.1875 8.296875 \nz\n\" id=\"DejaVuSans-50\"/>\n        <path d=\"M 10.796875 72.90625 \nL 49.515625 72.90625 \nL 49.515625 64.59375 \nL 19.828125 64.59375 \nL 19.828125 46.734375 \nQ 21.96875 47.46875 24.109375 47.828125 \nQ 26.265625 48.1875 28.421875 48.1875 \nQ 40.625 48.1875 47.75 41.5 \nQ 54.890625 34.8125 54.890625 23.390625 \nQ 54.890625 11.625 47.5625 5.09375 \nQ 40.234375 -1.421875 26.90625 -1.421875 \nQ 22.3125 -1.421875 17.546875 -0.640625 \nQ 12.796875 0.140625 7.71875 1.703125 \nL 7.71875 11.625 \nQ 12.109375 9.234375 16.796875 8.0625 \nQ 21.484375 6.890625 26.703125 6.890625 \nQ 35.15625 6.890625 40.078125 11.328125 \nQ 45.015625 15.765625 45.015625 23.390625 \nQ 45.015625 31 40.078125 35.4375 \nQ 35.15625 39.890625 26.703125 39.890625 \nQ 22.75 39.890625 18.8125 39.015625 \nQ 14.890625 38.140625 10.796875 36.28125 \nz\n\" id=\"DejaVuSans-53\"/>\n       </defs>\n       <use xlink:href=\"#DejaVuSans-50\"/>\n       <use x=\"63.623047\" xlink:href=\"#DejaVuSans-53\"/>\n      </g>\n     </g>\n    </g>\n    <g id=\"xtick_3\">\n     <g id=\"line2d_3\">\n      <g>\n       <use style=\"stroke:#000000;stroke-width:0.8;\" x=\"145.466374\" xlink:href=\"#m1e366a28e7\" y=\"235.238438\"/>\n      </g>\n     </g>\n     <g id=\"text_3\">\n      <!-- 50 -->\n      <g transform=\"translate(139.103874 249.836875)scale(0.1 -0.1)\">\n       <use xlink:href=\"#DejaVuSans-53\"/>\n       <use x=\"63.623047\" xlink:href=\"#DejaVuSans-48\"/>\n      </g>\n     </g>\n    </g>\n    <g id=\"xtick_4\">\n     <g id=\"line2d_4\">\n      <g>\n       <use style=\"stroke:#000000;stroke-width:0.8;\" x=\"188.699845\" xlink:href=\"#m1e366a28e7\" y=\"235.238438\"/>\n      </g>\n     </g>\n     <g id=\"text_4\">\n      <!-- 75 -->\n      <g transform=\"translate(182.337345 249.836875)scale(0.1 -0.1)\">\n       <defs>\n        <path d=\"M 8.203125 72.90625 \nL 55.078125 72.90625 \nL 55.078125 68.703125 \nL 28.609375 0 \nL 18.3125 0 \nL 43.21875 64.59375 \nL 8.203125 64.59375 \nz\n\" id=\"DejaVuSans-55\"/>\n       </defs>\n       <use xlink:href=\"#DejaVuSans-55\"/>\n       <use x=\"63.623047\" xlink:href=\"#DejaVuSans-53\"/>\n      </g>\n     </g>\n    </g>\n    <g id=\"xtick_5\">\n     <g id=\"line2d_5\">\n      <g>\n       <use style=\"stroke:#000000;stroke-width:0.8;\" x=\"231.933316\" xlink:href=\"#m1e366a28e7\" y=\"235.238438\"/>\n      </g>\n     </g>\n     <g id=\"text_5\">\n      <!-- 100 -->\n      <g transform=\"translate(222.389566 249.836875)scale(0.1 -0.1)\">\n       <defs>\n        <path d=\"M 12.40625 8.296875 \nL 28.515625 8.296875 \nL 28.515625 63.921875 \nL 10.984375 60.40625 \nL 10.984375 69.390625 \nL 28.421875 72.90625 \nL 38.28125 72.90625 \nL 38.28125 8.296875 \nL 54.390625 8.296875 \nL 54.390625 0 \nL 12.40625 0 \nz\n\" id=\"DejaVuSans-49\"/>\n       </defs>\n       <use xlink:href=\"#DejaVuSans-49\"/>\n       <use x=\"63.623047\" xlink:href=\"#DejaVuSans-48\"/>\n       <use x=\"127.246094\" xlink:href=\"#DejaVuSans-48\"/>\n      </g>\n     </g>\n    </g>\n    <g id=\"xtick_6\">\n     <g id=\"line2d_6\">\n      <g>\n       <use style=\"stroke:#000000;stroke-width:0.8;\" x=\"275.166787\" xlink:href=\"#m1e366a28e7\" y=\"235.238438\"/>\n      </g>\n     </g>\n     <g id=\"text_6\">\n      <!-- 125 -->\n      <g transform=\"translate(265.623037 249.836875)scale(0.1 -0.1)\">\n       <use xlink:href=\"#DejaVuSans-49\"/>\n       <use x=\"63.623047\" xlink:href=\"#DejaVuSans-50\"/>\n       <use x=\"127.246094\" xlink:href=\"#DejaVuSans-53\"/>\n      </g>\n     </g>\n    </g>\n    <g id=\"xtick_7\">\n     <g id=\"line2d_7\">\n      <g>\n       <use style=\"stroke:#000000;stroke-width:0.8;\" x=\"318.400258\" xlink:href=\"#m1e366a28e7\" y=\"235.238438\"/>\n      </g>\n     </g>\n     <g id=\"text_7\">\n      <!-- 150 -->\n      <g transform=\"translate(308.856508 249.836875)scale(0.1 -0.1)\">\n       <use xlink:href=\"#DejaVuSans-49\"/>\n       <use x=\"63.623047\" xlink:href=\"#DejaVuSans-53\"/>\n       <use x=\"127.246094\" xlink:href=\"#DejaVuSans-48\"/>\n      </g>\n     </g>\n    </g>\n    <g id=\"xtick_8\">\n     <g id=\"line2d_8\">\n      <g>\n       <use style=\"stroke:#000000;stroke-width:0.8;\" x=\"361.633729\" xlink:href=\"#m1e366a28e7\" y=\"235.238438\"/>\n      </g>\n     </g>\n     <g id=\"text_8\">\n      <!-- 175 -->\n      <g transform=\"translate(352.089979 249.836875)scale(0.1 -0.1)\">\n       <use xlink:href=\"#DejaVuSans-49\"/>\n       <use x=\"63.623047\" xlink:href=\"#DejaVuSans-55\"/>\n       <use x=\"127.246094\" xlink:href=\"#DejaVuSans-53\"/>\n      </g>\n     </g>\n    </g>\n    <g id=\"text_9\">\n     <!-- Time (minutes) -->\n     <g transform=\"translate(173.21875 263.515)scale(0.1 -0.1)\">\n      <defs>\n       <path d=\"M -0.296875 72.90625 \nL 61.375 72.90625 \nL 61.375 64.59375 \nL 35.5 64.59375 \nL 35.5 0 \nL 25.59375 0 \nL 25.59375 64.59375 \nL -0.296875 64.59375 \nz\n\" id=\"DejaVuSans-84\"/>\n       <path d=\"M 9.421875 54.6875 \nL 18.40625 54.6875 \nL 18.40625 0 \nL 9.421875 0 \nz\nM 9.421875 75.984375 \nL 18.40625 75.984375 \nL 18.40625 64.59375 \nL 9.421875 64.59375 \nz\n\" id=\"DejaVuSans-105\"/>\n       <path d=\"M 52 44.1875 \nQ 55.375 50.25 60.0625 53.125 \nQ 64.75 56 71.09375 56 \nQ 79.640625 56 84.28125 50.015625 \nQ 88.921875 44.046875 88.921875 33.015625 \nL 88.921875 0 \nL 79.890625 0 \nL 79.890625 32.71875 \nQ 79.890625 40.578125 77.09375 44.375 \nQ 74.3125 48.1875 68.609375 48.1875 \nQ 61.625 48.1875 57.5625 43.546875 \nQ 53.515625 38.921875 53.515625 30.90625 \nL 53.515625 0 \nL 44.484375 0 \nL 44.484375 32.71875 \nQ 44.484375 40.625 41.703125 44.40625 \nQ 38.921875 48.1875 33.109375 48.1875 \nQ 26.21875 48.1875 22.15625 43.53125 \nQ 18.109375 38.875 18.109375 30.90625 \nL 18.109375 0 \nL 9.078125 0 \nL 9.078125 54.6875 \nL 18.109375 54.6875 \nL 18.109375 46.1875 \nQ 21.1875 51.21875 25.484375 53.609375 \nQ 29.78125 56 35.6875 56 \nQ 41.65625 56 45.828125 52.96875 \nQ 50 49.953125 52 44.1875 \nz\n\" id=\"DejaVuSans-109\"/>\n       <path d=\"M 56.203125 29.59375 \nL 56.203125 25.203125 \nL 14.890625 25.203125 \nQ 15.484375 15.921875 20.484375 11.0625 \nQ 25.484375 6.203125 34.421875 6.203125 \nQ 39.59375 6.203125 44.453125 7.46875 \nQ 49.3125 8.734375 54.109375 11.28125 \nL 54.109375 2.78125 \nQ 49.265625 0.734375 44.1875 -0.34375 \nQ 39.109375 -1.421875 33.890625 -1.421875 \nQ 20.796875 -1.421875 13.15625 6.1875 \nQ 5.515625 13.8125 5.515625 26.8125 \nQ 5.515625 40.234375 12.765625 48.109375 \nQ 20.015625 56 32.328125 56 \nQ 43.359375 56 49.78125 48.890625 \nQ 56.203125 41.796875 56.203125 29.59375 \nz\nM 47.21875 32.234375 \nQ 47.125 39.59375 43.09375 43.984375 \nQ 39.0625 48.390625 32.421875 48.390625 \nQ 24.90625 48.390625 20.390625 44.140625 \nQ 15.875 39.890625 15.1875 32.171875 \nz\n\" id=\"DejaVuSans-101\"/>\n       <path id=\"DejaVuSans-32\"/>\n       <path d=\"M 31 75.875 \nQ 24.46875 64.65625 21.28125 53.65625 \nQ 18.109375 42.671875 18.109375 31.390625 \nQ 18.109375 20.125 21.3125 9.0625 \nQ 24.515625 -2 31 -13.1875 \nL 23.1875 -13.1875 \nQ 15.875 -1.703125 12.234375 9.375 \nQ 8.59375 20.453125 8.59375 31.390625 \nQ 8.59375 42.28125 12.203125 53.3125 \nQ 15.828125 64.359375 23.1875 75.875 \nz\n\" id=\"DejaVuSans-40\"/>\n       <path d=\"M 54.890625 33.015625 \nL 54.890625 0 \nL 45.90625 0 \nL 45.90625 32.71875 \nQ 45.90625 40.484375 42.875 44.328125 \nQ 39.84375 48.1875 33.796875 48.1875 \nQ 26.515625 48.1875 22.3125 43.546875 \nQ 18.109375 38.921875 18.109375 30.90625 \nL 18.109375 0 \nL 9.078125 0 \nL 9.078125 54.6875 \nL 18.109375 54.6875 \nL 18.109375 46.1875 \nQ 21.34375 51.125 25.703125 53.5625 \nQ 30.078125 56 35.796875 56 \nQ 45.21875 56 50.046875 50.171875 \nQ 54.890625 44.34375 54.890625 33.015625 \nz\n\" id=\"DejaVuSans-110\"/>\n       <path d=\"M 8.5 21.578125 \nL 8.5 54.6875 \nL 17.484375 54.6875 \nL 17.484375 21.921875 \nQ 17.484375 14.15625 20.5 10.265625 \nQ 23.53125 6.390625 29.59375 6.390625 \nQ 36.859375 6.390625 41.078125 11.03125 \nQ 45.3125 15.671875 45.3125 23.6875 \nL 45.3125 54.6875 \nL 54.296875 54.6875 \nL 54.296875 0 \nL 45.3125 0 \nL 45.3125 8.40625 \nQ 42.046875 3.421875 37.71875 1 \nQ 33.40625 -1.421875 27.6875 -1.421875 \nQ 18.265625 -1.421875 13.375 4.4375 \nQ 8.5 10.296875 8.5 21.578125 \nz\nM 31.109375 56 \nz\n\" id=\"DejaVuSans-117\"/>\n       <path d=\"M 18.3125 70.21875 \nL 18.3125 54.6875 \nL 36.8125 54.6875 \nL 36.8125 47.703125 \nL 18.3125 47.703125 \nL 18.3125 18.015625 \nQ 18.3125 11.328125 20.140625 9.421875 \nQ 21.96875 7.515625 27.59375 7.515625 \nL 36.8125 7.515625 \nL 36.8125 0 \nL 27.59375 0 \nQ 17.1875 0 13.234375 3.875 \nQ 9.28125 7.765625 9.28125 18.015625 \nL 9.28125 47.703125 \nL 2.6875 47.703125 \nL 2.6875 54.6875 \nL 9.28125 54.6875 \nL 9.28125 70.21875 \nz\n\" id=\"DejaVuSans-116\"/>\n       <path d=\"M 44.28125 53.078125 \nL 44.28125 44.578125 \nQ 40.484375 46.53125 36.375 47.5 \nQ 32.28125 48.484375 27.875 48.484375 \nQ 21.1875 48.484375 17.84375 46.4375 \nQ 14.5 44.390625 14.5 40.28125 \nQ 14.5 37.15625 16.890625 35.375 \nQ 19.28125 33.59375 26.515625 31.984375 \nL 29.59375 31.296875 \nQ 39.15625 29.25 43.1875 25.515625 \nQ 47.21875 21.78125 47.21875 15.09375 \nQ 47.21875 7.46875 41.1875 3.015625 \nQ 35.15625 -1.421875 24.609375 -1.421875 \nQ 20.21875 -1.421875 15.453125 -0.5625 \nQ 10.6875 0.296875 5.421875 2 \nL 5.421875 11.28125 \nQ 10.40625 8.6875 15.234375 7.390625 \nQ 20.0625 6.109375 24.8125 6.109375 \nQ 31.15625 6.109375 34.5625 8.28125 \nQ 37.984375 10.453125 37.984375 14.40625 \nQ 37.984375 18.0625 35.515625 20.015625 \nQ 33.0625 21.96875 24.703125 23.78125 \nL 21.578125 24.515625 \nQ 13.234375 26.265625 9.515625 29.90625 \nQ 5.8125 33.546875 5.8125 39.890625 \nQ 5.8125 47.609375 11.28125 51.796875 \nQ 16.75 56 26.8125 56 \nQ 31.78125 56 36.171875 55.265625 \nQ 40.578125 54.546875 44.28125 53.078125 \nz\n\" id=\"DejaVuSans-115\"/>\n       <path d=\"M 8.015625 75.875 \nL 15.828125 75.875 \nQ 23.140625 64.359375 26.78125 53.3125 \nQ 30.421875 42.28125 30.421875 31.390625 \nQ 30.421875 20.453125 26.78125 9.375 \nQ 23.140625 -1.703125 15.828125 -13.1875 \nL 8.015625 -13.1875 \nQ 14.5 -2 17.703125 9.0625 \nQ 20.90625 20.125 20.90625 31.390625 \nQ 20.90625 42.671875 17.703125 53.65625 \nQ 14.5 64.65625 8.015625 75.875 \nz\n\" id=\"DejaVuSans-41\"/>\n      </defs>\n      <use xlink:href=\"#DejaVuSans-84\"/>\n      <use x=\"57.958984\" xlink:href=\"#DejaVuSans-105\"/>\n      <use x=\"85.742188\" xlink:href=\"#DejaVuSans-109\"/>\n      <use x=\"183.154297\" xlink:href=\"#DejaVuSans-101\"/>\n      <use x=\"244.677734\" xlink:href=\"#DejaVuSans-32\"/>\n      <use x=\"276.464844\" xlink:href=\"#DejaVuSans-40\"/>\n      <use x=\"315.478516\" xlink:href=\"#DejaVuSans-109\"/>\n      <use x=\"412.890625\" xlink:href=\"#DejaVuSans-105\"/>\n      <use x=\"440.673828\" xlink:href=\"#DejaVuSans-110\"/>\n      <use x=\"504.052734\" xlink:href=\"#DejaVuSans-117\"/>\n      <use x=\"567.431641\" xlink:href=\"#DejaVuSans-116\"/>\n      <use x=\"606.640625\" xlink:href=\"#DejaVuSans-101\"/>\n      <use x=\"668.164062\" xlink:href=\"#DejaVuSans-115\"/>\n      <use x=\"720.263672\" xlink:href=\"#DejaVuSans-41\"/>\n     </g>\n    </g>\n   </g>\n   <g id=\"matplotlib.axis_2\">\n    <g id=\"ytick_1\">\n     <g id=\"line2d_9\">\n      <defs>\n       <path d=\"M 0 0 \nL -3.5 0 \n\" id=\"mb71f2646e8\" style=\"stroke:#000000;stroke-width:0.8;\"/>\n      </defs>\n      <g>\n       <use style=\"stroke:#000000;stroke-width:0.8;\" x=\"43.78125\" xlink:href=\"#mb71f2646e8\" y=\"194.348173\"/>\n      </g>\n     </g>\n     <g id=\"text_10\">\n      <!-- 7.0 -->\n      <g transform=\"translate(20.878125 198.147391)scale(0.1 -0.1)\">\n       <defs>\n        <path d=\"M 10.6875 12.40625 \nL 21 12.40625 \nL 21 0 \nL 10.6875 0 \nz\n\" id=\"DejaVuSans-46\"/>\n       </defs>\n       <use xlink:href=\"#DejaVuSans-55\"/>\n       <use x=\"63.623047\" xlink:href=\"#DejaVuSans-46\"/>\n       <use x=\"95.410156\" xlink:href=\"#DejaVuSans-48\"/>\n      </g>\n     </g>\n    </g>\n    <g id=\"ytick_2\">\n     <g id=\"line2d_10\">\n      <g>\n       <use style=\"stroke:#000000;stroke-width:0.8;\" x=\"43.78125\" xlink:href=\"#mb71f2646e8\" y=\"147.85428\"/>\n      </g>\n     </g>\n     <g id=\"text_11\">\n      <!-- 7.5 -->\n      <g transform=\"translate(20.878125 151.653498)scale(0.1 -0.1)\">\n       <use xlink:href=\"#DejaVuSans-55\"/>\n       <use x=\"63.623047\" xlink:href=\"#DejaVuSans-46\"/>\n       <use x=\"95.410156\" xlink:href=\"#DejaVuSans-53\"/>\n      </g>\n     </g>\n    </g>\n    <g id=\"ytick_3\">\n     <g id=\"line2d_11\">\n      <g>\n       <use style=\"stroke:#000000;stroke-width:0.8;\" x=\"43.78125\" xlink:href=\"#mb71f2646e8\" y=\"101.360387\"/>\n      </g>\n     </g>\n     <g id=\"text_12\">\n      <!-- 8.0 -->\n      <g transform=\"translate(20.878125 105.159606)scale(0.1 -0.1)\">\n       <defs>\n        <path d=\"M 31.78125 34.625 \nQ 24.75 34.625 20.71875 30.859375 \nQ 16.703125 27.09375 16.703125 20.515625 \nQ 16.703125 13.921875 20.71875 10.15625 \nQ 24.75 6.390625 31.78125 6.390625 \nQ 38.8125 6.390625 42.859375 10.171875 \nQ 46.921875 13.96875 46.921875 20.515625 \nQ 46.921875 27.09375 42.890625 30.859375 \nQ 38.875 34.625 31.78125 34.625 \nz\nM 21.921875 38.8125 \nQ 15.578125 40.375 12.03125 44.71875 \nQ 8.5 49.078125 8.5 55.328125 \nQ 8.5 64.0625 14.71875 69.140625 \nQ 20.953125 74.21875 31.78125 74.21875 \nQ 42.671875 74.21875 48.875 69.140625 \nQ 55.078125 64.0625 55.078125 55.328125 \nQ 55.078125 49.078125 51.53125 44.71875 \nQ 48 40.375 41.703125 38.8125 \nQ 48.828125 37.15625 52.796875 32.3125 \nQ 56.78125 27.484375 56.78125 20.515625 \nQ 56.78125 9.90625 50.3125 4.234375 \nQ 43.84375 -1.421875 31.78125 -1.421875 \nQ 19.734375 -1.421875 13.25 4.234375 \nQ 6.78125 9.90625 6.78125 20.515625 \nQ 6.78125 27.484375 10.78125 32.3125 \nQ 14.796875 37.15625 21.921875 38.8125 \nz\nM 18.3125 54.390625 \nQ 18.3125 48.734375 21.84375 45.5625 \nQ 25.390625 42.390625 31.78125 42.390625 \nQ 38.140625 42.390625 41.71875 45.5625 \nQ 45.3125 48.734375 45.3125 54.390625 \nQ 45.3125 60.0625 41.71875 63.234375 \nQ 38.140625 66.40625 31.78125 66.40625 \nQ 25.390625 66.40625 21.84375 63.234375 \nQ 18.3125 60.0625 18.3125 54.390625 \nz\n\" id=\"DejaVuSans-56\"/>\n       </defs>\n       <use xlink:href=\"#DejaVuSans-56\"/>\n       <use x=\"63.623047\" xlink:href=\"#DejaVuSans-46\"/>\n       <use x=\"95.410156\" xlink:href=\"#DejaVuSans-48\"/>\n      </g>\n     </g>\n    </g>\n    <g id=\"ytick_4\">\n     <g id=\"line2d_12\">\n      <g>\n       <use style=\"stroke:#000000;stroke-width:0.8;\" x=\"43.78125\" xlink:href=\"#mb71f2646e8\" y=\"54.866494\"/>\n      </g>\n     </g>\n     <g id=\"text_13\">\n      <!-- 8.5 -->\n      <g transform=\"translate(20.878125 58.665713)scale(0.1 -0.1)\">\n       <use xlink:href=\"#DejaVuSans-56\"/>\n       <use x=\"63.623047\" xlink:href=\"#DejaVuSans-46\"/>\n       <use x=\"95.410156\" xlink:href=\"#DejaVuSans-53\"/>\n      </g>\n     </g>\n    </g>\n    <g id=\"text_14\">\n     <!-- Raw intensity -->\n     <g transform=\"translate(14.798438 160.298906)rotate(-90)scale(0.1 -0.1)\">\n      <defs>\n       <path d=\"M 44.390625 34.1875 \nQ 47.5625 33.109375 50.5625 29.59375 \nQ 53.5625 26.078125 56.59375 19.921875 \nL 66.609375 0 \nL 56 0 \nL 46.6875 18.703125 \nQ 43.0625 26.03125 39.671875 28.421875 \nQ 36.28125 30.8125 30.421875 30.8125 \nL 19.671875 30.8125 \nL 19.671875 0 \nL 9.8125 0 \nL 9.8125 72.90625 \nL 32.078125 72.90625 \nQ 44.578125 72.90625 50.734375 67.671875 \nQ 56.890625 62.453125 56.890625 51.90625 \nQ 56.890625 45.015625 53.6875 40.46875 \nQ 50.484375 35.9375 44.390625 34.1875 \nz\nM 19.671875 64.796875 \nL 19.671875 38.921875 \nL 32.078125 38.921875 \nQ 39.203125 38.921875 42.84375 42.21875 \nQ 46.484375 45.515625 46.484375 51.90625 \nQ 46.484375 58.296875 42.84375 61.546875 \nQ 39.203125 64.796875 32.078125 64.796875 \nz\n\" id=\"DejaVuSans-82\"/>\n       <path d=\"M 34.28125 27.484375 \nQ 23.390625 27.484375 19.1875 25 \nQ 14.984375 22.515625 14.984375 16.5 \nQ 14.984375 11.71875 18.140625 8.90625 \nQ 21.296875 6.109375 26.703125 6.109375 \nQ 34.1875 6.109375 38.703125 11.40625 \nQ 43.21875 16.703125 43.21875 25.484375 \nL 43.21875 27.484375 \nz\nM 52.203125 31.203125 \nL 52.203125 0 \nL 43.21875 0 \nL 43.21875 8.296875 \nQ 40.140625 3.328125 35.546875 0.953125 \nQ 30.953125 -1.421875 24.3125 -1.421875 \nQ 15.921875 -1.421875 10.953125 3.296875 \nQ 6 8.015625 6 15.921875 \nQ 6 25.140625 12.171875 29.828125 \nQ 18.359375 34.515625 30.609375 34.515625 \nL 43.21875 34.515625 \nL 43.21875 35.40625 \nQ 43.21875 41.609375 39.140625 45 \nQ 35.0625 48.390625 27.6875 48.390625 \nQ 23 48.390625 18.546875 47.265625 \nQ 14.109375 46.140625 10.015625 43.890625 \nL 10.015625 52.203125 \nQ 14.9375 54.109375 19.578125 55.046875 \nQ 24.21875 56 28.609375 56 \nQ 40.484375 56 46.34375 49.84375 \nQ 52.203125 43.703125 52.203125 31.203125 \nz\n\" id=\"DejaVuSans-97\"/>\n       <path d=\"M 4.203125 54.6875 \nL 13.1875 54.6875 \nL 24.421875 12.015625 \nL 35.59375 54.6875 \nL 46.1875 54.6875 \nL 57.421875 12.015625 \nL 68.609375 54.6875 \nL 77.59375 54.6875 \nL 63.28125 0 \nL 52.6875 0 \nL 40.921875 44.828125 \nL 29.109375 0 \nL 18.5 0 \nz\n\" id=\"DejaVuSans-119\"/>\n       <path d=\"M 32.171875 -5.078125 \nQ 28.375 -14.84375 24.75 -17.8125 \nQ 21.140625 -20.796875 15.09375 -20.796875 \nL 7.90625 -20.796875 \nL 7.90625 -13.28125 \nL 13.1875 -13.28125 \nQ 16.890625 -13.28125 18.9375 -11.515625 \nQ 21 -9.765625 23.484375 -3.21875 \nL 25.09375 0.875 \nL 2.984375 54.6875 \nL 12.5 54.6875 \nL 29.59375 11.921875 \nL 46.6875 54.6875 \nL 56.203125 54.6875 \nz\n\" id=\"DejaVuSans-121\"/>\n      </defs>\n      <use xlink:href=\"#DejaVuSans-82\"/>\n      <use x=\"67.232422\" xlink:href=\"#DejaVuSans-97\"/>\n      <use x=\"128.511719\" xlink:href=\"#DejaVuSans-119\"/>\n      <use x=\"210.298828\" xlink:href=\"#DejaVuSans-32\"/>\n      <use x=\"242.085938\" xlink:href=\"#DejaVuSans-105\"/>\n      <use x=\"269.869141\" xlink:href=\"#DejaVuSans-110\"/>\n      <use x=\"333.248047\" xlink:href=\"#DejaVuSans-116\"/>\n      <use x=\"372.457031\" xlink:href=\"#DejaVuSans-101\"/>\n      <use x=\"433.980469\" xlink:href=\"#DejaVuSans-110\"/>\n      <use x=\"497.359375\" xlink:href=\"#DejaVuSans-115\"/>\n      <use x=\"549.458984\" xlink:href=\"#DejaVuSans-105\"/>\n      <use x=\"577.242188\" xlink:href=\"#DejaVuSans-116\"/>\n      <use x=\"616.451172\" xlink:href=\"#DejaVuSans-121\"/>\n     </g>\n    </g>\n    <g id=\"text_15\">\n     <!-- 1e6 -->\n     <g transform=\"translate(43.78125 14.798437)scale(0.1 -0.1)\">\n      <defs>\n       <path d=\"M 33.015625 40.375 \nQ 26.375 40.375 22.484375 35.828125 \nQ 18.609375 31.296875 18.609375 23.390625 \nQ 18.609375 15.53125 22.484375 10.953125 \nQ 26.375 6.390625 33.015625 6.390625 \nQ 39.65625 6.390625 43.53125 10.953125 \nQ 47.40625 15.53125 47.40625 23.390625 \nQ 47.40625 31.296875 43.53125 35.828125 \nQ 39.65625 40.375 33.015625 40.375 \nz\nM 52.59375 71.296875 \nL 52.59375 62.3125 \nQ 48.875 64.0625 45.09375 64.984375 \nQ 41.3125 65.921875 37.59375 65.921875 \nQ 27.828125 65.921875 22.671875 59.328125 \nQ 17.53125 52.734375 16.796875 39.40625 \nQ 19.671875 43.65625 24.015625 45.921875 \nQ 28.375 48.1875 33.59375 48.1875 \nQ 44.578125 48.1875 50.953125 41.515625 \nQ 57.328125 34.859375 57.328125 23.390625 \nQ 57.328125 12.15625 50.6875 5.359375 \nQ 44.046875 -1.421875 33.015625 -1.421875 \nQ 20.359375 -1.421875 13.671875 8.265625 \nQ 6.984375 17.96875 6.984375 36.375 \nQ 6.984375 53.65625 15.1875 63.9375 \nQ 23.390625 74.21875 37.203125 74.21875 \nQ 40.921875 74.21875 44.703125 73.484375 \nQ 48.484375 72.75 52.59375 71.296875 \nz\n\" id=\"DejaVuSans-54\"/>\n      </defs>\n      <use xlink:href=\"#DejaVuSans-49\"/>\n      <use x=\"63.623047\" xlink:href=\"#DejaVuSans-101\"/>\n      <use x=\"125.146484\" xlink:href=\"#DejaVuSans-54\"/>\n     </g>\n    </g>\n   </g>\n   <g id=\"line2d_13\">\n    <path clip-path=\"url(#p3e70ae9851)\" d=\"M 58.999432 55.553956 \nL 60.728771 56.370257 \nL 62.45811 57.468927 \nL 64.187448 56.596704 \nL 65.916787 56.843938 \nL 67.646126 56.844487 \nL 69.375465 57.509055 \nL 71.104804 58.010055 \nL 72.834143 57.367514 \nL 76.29282 59.916118 \nL 79.751498 59.137702 \nL 81.480837 59.175972 \nL 83.210176 58.744267 \nL 84.939514 58.503519 \nL 86.668853 59.071708 \nL 88.398192 59.938697 \nL 90.127531 59.224891 \nL 91.85687 59.829441 \nL 93.586209 60.211511 \nL 97.044886 60.166333 \nL 98.774225 55.325995 \nL 100.503564 59.706212 \nL 102.232903 59.111101 \nL 103.962242 60.852676 \nL 105.691581 60.444482 \nL 107.420919 61.18007 \nL 109.150258 61.206931 \nL 110.879597 62.693367 \nL 112.608936 62.464761 \nL 114.338275 62.496796 \nL 116.067614 63.060077 \nL 117.796952 61.999933 \nL 119.526291 63.195249 \nL 121.25563 63.571927 \nL 122.984969 63.294168 \nL 124.714308 63.273246 \nL 126.443647 64.771818 \nL 129.902324 65.45517 \nL 131.631663 65.303574 \nL 133.361002 66.907032 \nL 135.090341 67.100609 \nL 136.81968 66.504741 \nL 138.549019 66.150264 \nL 140.278357 68.422821 \nL 142.007696 68.481735 \nL 143.737035 66.427134 \nL 145.466374 67.597457 \nL 147.195713 68.325622 \nL 148.925052 68.89719 \nL 150.65439 69.673424 \nL 152.383729 68.145188 \nL 154.113068 68.28738 \nL 155.842407 69.71317 \nL 157.571746 70.02713 \nL 159.301085 70.792043 \nL 161.030424 72.151071 \nL 162.759762 70.670117 \nL 164.489101 71.970098 \nL 166.21844 72.988118 \nL 167.947779 73.16248 \nL 169.677118 73.822467 \nL 171.406457 75.021685 \nL 173.135795 75.299691 \nL 174.865134 73.676944 \nL 176.594473 72.986326 \nL 178.323812 74.141639 \nL 180.053151 73.635616 \nL 181.78249 74.882849 \nL 183.511829 75.111676 \nL 185.241167 74.722338 \nL 186.970506 75.638832 \nL 188.699845 76.76621 \nL 190.429184 76.308846 \nL 192.158523 77.595141 \nL 193.887862 75.496999 \nL 195.6172 74.982855 \nL 197.346539 75.685813 \nL 199.075878 73.911977 \nL 200.805217 75.680683 \nL 202.534556 76.218471 \nL 204.263895 74.375653 \nL 205.993233 72.343747 \nL 207.722572 65.683466 \nL 209.451911 67.888943 \nL 211.18125 62.192314 \nL 212.910589 50.363836 \nL 214.639928 41.544385 \nL 216.369267 27.682074 \nL 218.098605 44.579434 \nL 219.827944 66.767814 \nL 221.557283 68.128595 \nL 223.286622 70.009769 \nL 225.015961 72.90386 \nL 226.7453 75.060493 \nL 228.474638 72.128312 \nL 230.203977 71.892773 \nL 231.933316 73.674535 \nL 233.662655 77.206457 \nL 235.391994 77.28203 \nL 237.121333 75.769296 \nL 238.850671 73.560137 \nL 240.58001 78.564029 \nL 242.309349 79.965356 \nL 244.038688 72.897105 \nL 245.768027 78.906581 \nL 247.497366 75.910946 \nL 249.226705 77.768066 \nL 250.956043 69.728888 \nL 252.685382 76.285089 \nL 254.414721 81.185143 \nL 256.14406 80.206148 \nL 259.602738 91.030665 \nL 261.332076 91.472652 \nL 263.061415 91.614903 \nL 264.790754 91.954672 \nL 266.520093 92.633051 \nL 268.249432 92.955851 \nL 269.978771 94.065508 \nL 271.70811 94.739905 \nL 273.437448 95.611508 \nL 275.166787 95.653154 \nL 276.896126 96.945066 \nL 278.625465 97.034638 \nL 280.354804 96.079965 \nL 282.084143 96.307786 \nL 283.813481 97.429177 \nL 285.54282 97.767876 \nL 287.272159 95.475064 \nL 289.001498 97.336871 \nL 290.730837 96.004576 \nL 292.460176 98.982849 \nL 294.189514 92.923742 \nL 297.648192 100.068717 \nL 299.377531 101.71467 \nL 301.10687 100.49639 \nL 302.836209 102.242322 \nL 304.565548 102.11526 \nL 306.294886 103.893539 \nL 308.024225 104.276954 \nL 309.753564 102.352053 \nL 311.482903 104.999042 \nL 313.212242 104.061311 \nL 314.941581 105.95586 \nL 316.670919 104.296371 \nL 318.400258 104.765952 \nL 320.129597 104.482807 \nL 321.858936 103.895559 \nL 323.588275 105.798729 \nL 325.317614 108.9703 \nL 327.046952 109.546623 \nL 328.776291 108.601778 \nL 330.50563 110.036182 \nL 332.234969 110.164393 \nL 333.964308 109.816241 \nL 335.693647 108.930249 \nL 337.422986 109.405752 \nL 339.152324 112.694187 \nL 340.881663 113.166527 \nL 342.611002 112.270265 \nL 344.340341 112.342697 \nL 346.06968 113.377882 \nL 347.799019 112.961139 \nL 349.528357 113.949832 \nL 351.257696 114.252203 \nL 352.987035 115.254931 \nL 354.716374 115.756872 \nL 356.445713 115.720492 \nL 358.175052 116.617234 \nL 359.90439 116.794684 \nL 361.633729 117.900577 \nL 363.363068 119.277829 \nL 363.363068 119.277829 \n\" style=\"fill:none;stroke:#1f77b4;stroke-linecap:square;stroke-width:1.5;\"/>\n   </g>\n   <g id=\"line2d_14\">\n    <path clip-path=\"url(#p3e70ae9851)\" d=\"M 58.999432 66.302234 \nL 60.728771 70.193983 \nL 62.45811 71.024526 \nL 64.187448 72.847179 \nL 65.916787 56.210393 \nL 67.646126 46.971782 \nL 69.375465 76.419215 \nL 71.104804 86.308389 \nL 72.834143 88.586138 \nL 74.563481 89.351724 \nL 76.29282 86.087213 \nL 78.022159 67.608482 \nL 79.751498 62.417443 \nL 81.480837 82.664366 \nL 83.210176 87.307941 \nL 84.939514 89.017728 \nL 86.668853 95.43444 \nL 88.398192 94.959595 \nL 90.127531 96.16487 \nL 91.85687 101.787522 \nL 95.315548 105.09276 \nL 97.044886 108.001219 \nL 98.774225 107.306069 \nL 100.503564 104.552084 \nL 102.232903 106.939339 \nL 103.962242 108.861 \nL 105.691581 114.422785 \nL 107.420919 120.494515 \nL 109.150258 119.710568 \nL 110.879597 120.71118 \nL 112.608936 122.179202 \nL 114.338275 125.510233 \nL 117.796952 127.499299 \nL 119.526291 130.3828 \nL 121.25563 131.611501 \nL 122.984969 135.879844 \nL 126.443647 140.713112 \nL 128.172986 141.841293 \nL 129.902324 144.538059 \nL 131.631663 147.006522 \nL 133.361002 148.739124 \nL 135.090341 151.375534 \nL 138.549019 153.325208 \nL 140.278357 157.220539 \nL 142.007696 160.052074 \nL 143.737035 162.021758 \nL 145.466374 160.170642 \nL 147.195713 166.446055 \nL 148.925052 168.172827 \nL 150.65439 170.172023 \nL 152.383729 155.484898 \nL 154.113068 158.283988 \nL 155.842407 167.58203 \nL 157.571746 168.541968 \nL 159.301085 171.605487 \nL 161.030424 174.039908 \nL 162.759762 172.218373 \nL 164.489101 175.437395 \nL 166.21844 177.591836 \nL 167.947779 178.312019 \nL 169.677118 180.272624 \nL 171.406457 184.062165 \nL 173.135795 184.87223 \nL 174.865134 182.185936 \nL 176.594473 181.864713 \nL 178.323812 182.160427 \nL 180.053151 184.200021 \nL 181.78249 185.357548 \nL 183.511829 189.121069 \nL 185.241167 188.140952 \nL 186.970506 189.133054 \nL 188.699845 190.595382 \nL 190.429184 190.160398 \nL 192.158523 189.312312 \nL 193.887862 194.958662 \nL 195.6172 192.792662 \nL 197.346539 193.799481 \nL 199.075878 193.35486 \nL 200.805217 193.08648 \nL 202.534556 191.989549 \nL 204.263895 191.38722 \nL 205.993233 174.89478 \nL 207.722572 173.042594 \nL 209.451911 182.489356 \nL 212.910589 172.101839 \nL 214.639928 150.492567 \nL 216.369267 151.081137 \nL 218.098605 150.192329 \nL 219.827944 175.713452 \nL 221.557283 181.32038 \nL 223.286622 178.831659 \nL 225.015961 182.888916 \nL 226.7453 180.025706 \nL 228.474638 156.689157 \nL 230.203977 141.370905 \nL 231.933316 144.030088 \nL 233.662655 154.718383 \nL 235.391994 151.196355 \nL 237.121333 138.747944 \nL 238.850671 129.888246 \nL 240.58001 142.49329 \nL 242.309349 140.272014 \nL 244.038688 129.149054 \nL 245.768027 130.210265 \nL 247.497366 99.04521 \nL 249.226705 91.636234 \nL 250.956043 45.420231 \nL 252.685382 78.03339 \nL 254.414721 102.110891 \nL 256.14406 74.122964 \nL 257.873399 124.839635 \nL 259.602738 198.030767 \nL 261.332076 199.721702 \nL 263.061415 200.603087 \nL 264.790754 200.634797 \nL 266.520093 201.968467 \nL 268.249432 204.17839 \nL 269.978771 204.436024 \nL 271.70811 204.858054 \nL 273.437448 206.247218 \nL 275.166787 205.763454 \nL 276.896126 207.710853 \nL 278.625465 208.266023 \nL 280.354804 205.737831 \nL 283.813481 208.768005 \nL 285.54282 209.257618 \nL 287.272159 208.075263 \nL 289.001498 208.264495 \nL 290.730837 208.726242 \nL 292.460176 210.611733 \nL 294.189514 205.756792 \nL 295.918853 208.433732 \nL 297.648192 212.23294 \nL 299.377531 212.903868 \nL 301.10687 211.859233 \nL 302.836209 213.236944 \nL 304.565548 213.53897 \nL 306.294886 214.404129 \nL 308.024225 215.002977 \nL 309.753564 214.067424 \nL 311.482903 215.313675 \nL 313.212242 215.842548 \nL 314.941581 216.622675 \nL 316.670919 216.002102 \nL 318.400258 216.466377 \nL 320.129597 216.278081 \nL 321.858936 215.017699 \nL 323.588275 217.744206 \nL 325.317614 219.505075 \nL 327.046952 220.778948 \nL 330.50563 220.445397 \nL 332.234969 218.711294 \nL 333.964308 218.833517 \nL 335.693647 217.075711 \nL 337.422986 218.036935 \nL 339.152324 222.203474 \nL 340.881663 222.645777 \nL 342.611002 222.247086 \nL 344.340341 222.147597 \nL 346.06968 222.465779 \nL 347.799019 219.682677 \nL 349.528357 221.983265 \nL 351.257696 223.166537 \nL 352.987035 221.847628 \nL 354.716374 224.475358 \nL 356.445713 225.019695 \nL 359.90439 223.971288 \nL 361.633729 225.067668 \nL 363.363068 225.354801 \nL 363.363068 225.354801 \n\" style=\"fill:none;stroke:#ff7f0e;stroke-linecap:square;stroke-width:1.5;\"/>\n   </g>\n   <g id=\"patch_3\">\n    <path d=\"M 43.78125 235.238438 \nL 43.78125 17.798438 \n\" style=\"fill:none;stroke:#000000;stroke-linecap:square;stroke-linejoin:miter;stroke-width:0.8;\"/>\n   </g>\n   <g id=\"patch_4\">\n    <path d=\"M 378.58125 235.238438 \nL 378.58125 17.798438 \n\" style=\"fill:none;stroke:#000000;stroke-linecap:square;stroke-linejoin:miter;stroke-width:0.8;\"/>\n   </g>\n   <g id=\"patch_5\">\n    <path d=\"M 43.78125 235.238438 \nL 378.58125 235.238438 \n\" style=\"fill:none;stroke:#000000;stroke-linecap:square;stroke-linejoin:miter;stroke-width:0.8;\"/>\n   </g>\n   <g id=\"patch_6\">\n    <path d=\"M 43.78125 17.798438 \nL 378.58125 17.798438 \n\" style=\"fill:none;stroke:#000000;stroke-linecap:square;stroke-linejoin:miter;stroke-width:0.8;\"/>\n   </g>\n  </g>\n </g>\n <defs>\n  <clipPath id=\"p3e70ae9851\">\n   <rect height=\"217.44\" width=\"334.8\" x=\"43.78125\" y=\"17.798438\"/>\n  </clipPath>\n </defs>\n</svg>\n",
      "image/png": "[encoded data removed]"
     },
     "metadata": {
      "needs_background": "light"
     }
    }
   ],
   "source": [
    "plt.plot(int_data)\n",
    "plt.plot(int_offdata)\n",
    "plt.ylabel('Raw intensity')\n",
    "plt.xlabel(\"Time (minutes)\")"
   ]
  },
  {
   "cell_type": "code",
   "execution_count": null,
   "metadata": {},
   "outputs": [],
   "source": []
  }
 ]
}