{
 "metadata": {
  "language_info": {
   "codemirror_mode": {
    "name": "ipython",
    "version": 3
   },
   "file_extension": ".py",
   "mimetype": "text/x-python",
   "name": "python",
   "nbconvert_exporter": "python",
   "pygments_lexer": "ipython3",
   "version": "3.8.0-final"
  },
  "orig_nbformat": 2,
  "kernelspec": {
   "name": "jup-realta",
   "display_name": "jup-realta",
   "language": "python"
  }
 },
 "nbformat": 4,
 "nbformat_minor": 2,
 "cells": [
  {
   "cell_type": "code",
   "execution_count": 9,
   "metadata": {},
   "outputs": [],
   "source": [
    "#!/usr/bin/env python3\n",
    "import numpy as np\n",
    "import matplotlib.pyplot as plt\n",
    "import pandas as pd \n",
    "import astropy.units as u\n",
    "from sunpy.time import TimeRange\n",
    "import time\n",
    "import sys\n",
    "\n",
    "import datetime as dt\n",
    "import matplotlib.dates as mdates\n",
    "import matplotlib as mpl\n",
    "from mpl_toolkits.axes_grid1 import make_axes_locatable\n",
    "from matplotlib.colors import LogNorm\n",
    "from matplotlib import gridspec,transforms\n",
    "\n",
    "%matplotlib inline"
   ]
  },
  {
   "cell_type": "code",
   "execution_count": 10,
   "metadata": {},
   "outputs": [],
   "source": [
    "sys.path.insert(1, '../../20201013_jupiter/')\n",
    "from sk import LofarRaw\n",
    "\n",
    "\n",
    "#rcParams['agg.path.chunksize'] = 10000"
   ]
  },
  {
   "cell_type": "code",
   "execution_count": 11,
   "metadata": {},
   "outputs": [],
   "source": [
    "mpl.use('pdf')"
   ]
  },
  {
   "cell_type": "code",
   "execution_count": 12,
   "metadata": {},
   "outputs": [],
   "source": [
    "filename = '../udpoutput/uranus-stokesVectors_0_2020-12-15T20:04:00_19629670898060' #0 is I and 1 is V I assume\n",
    "frange = [15,30]\n",
    "sbs = np.arange(76,198)\n",
    "obs_mode = 3\n",
    "time_len_mins = 176.\n",
    "trange = TimeRange(filename.split('_')[-2], time_len_mins*u.min)\n",
    "xlabel = \"Time from {} {}\".format(filename.split('_')[-2].split('T')[0], filename.split('_')[-2].split('T')[1])\n",
    "ylabel = \"Frequency (MHz)\"\n",
    "title = filename.split('/')[2]"
   ]
  },
  {
   "cell_type": "code",
   "execution_count": 13,
   "metadata": {},
   "outputs": [],
   "source": [
    "off_fname = '../udpoutput/offsource-stokesVectors_0_2020-12-15T20:04:00_19629670898060'\n",
    "#trange is the same for both beams\n",
    "#time_len_mins = 176.\n",
    "#offtrange = TimeRange(off_fname.split('_')[-2], time_len_mins*u.min)\n",
    "#offxlabel = \"Time from {} {}\".format(off_fname.split('_')[-2].split('T')[0], off_fname.split('_')[-2].split('T')[1])\n",
    "#offylabel = \"Frequency (MHz)\"\n",
    "#offtitle = off_fname.split('/')[2]"
   ]
  },
  {
   "cell_type": "code",
   "execution_count": 14,
   "metadata": {},
   "outputs": [
    {
     "output_type": "stream",
     "name": "stdout",
     "text": [
      "Time to read data: 0.000729s\n",
      "\n",
      "Time to read data: 0.000162s\n",
      "\n"
     ]
    }
   ],
   "source": [
    "# read in the data (stokes I or V from udpPM)\n",
    "raw = LofarRaw(fname=filename, sbs=sbs, obs_mode=obs_mode, frange=frange)\n",
    "raw.data = raw.data[:,:78] ###the rest of the subbands are empty because of the way ilofar/realta records data into the data lanes\n",
    "offraw = LofarRaw(fname=off_fname, sbs=sbs, obs_mode=obs_mode, frange=frange)\n",
    "offraw.data = offraw.data[:,:78]"
   ]
  },
  {
   "cell_type": "code",
   "execution_count": 15,
   "metadata": {},
   "outputs": [],
   "source": [
    "flimits = np.array([0,78])\n",
    "freqlimits = raw.sb_to_f(flimits+sbs[0], obs_mode)\n",
    "xlims = list(map(dt.datetime.fromisoformat, [trange.start.value, trange.end.value]))\n",
    "xlims = mdates.date2num(xlims)"
   ]
  },
  {
   "cell_type": "code",
   "execution_count": 16,
   "metadata": {},
   "outputs": [],
   "source": [
    "datasplit = 10\n",
    "normseconds = 42\n",
    "norm_splits = int(((trange.minutes.value/datasplit)*60)/normseconds)\n",
    "\n",
    "tchunks = trange.split(datasplit)\n",
    "datas = np.array_split(raw.data, datasplit, axis=0)\n",
    "offdatas = np.array_split(offraw.data, datasplit, axis=0)"
   ]
  },
  {
   "cell_type": "code",
   "execution_count": 17,
   "metadata": {},
   "outputs": [
    {
     "output_type": "error",
     "ename": "KeyboardInterrupt",
     "evalue": "",
     "traceback": [
      "\u001b[0;31m---------------------------------------------------------------------------\u001b[0m",
      "\u001b[0;31mKeyboardInterrupt\u001b[0m                         Traceback (most recent call last)",
      "\u001b[0;32m<ipython-input-17-2a9756ce292c>\u001b[0m in \u001b[0;36m<module>\u001b[0;34m\u001b[0m\n\u001b[1;32m      7\u001b[0m                 \u001b[0;32mpass\u001b[0m\u001b[0;34m\u001b[0m\u001b[0;34m\u001b[0m\u001b[0m\n\u001b[1;32m      8\u001b[0m             \u001b[0;32melse\u001b[0m\u001b[0;34m:\u001b[0m\u001b[0;34m\u001b[0m\u001b[0;34m\u001b[0m\u001b[0m\n\u001b[0;32m----> 9\u001b[0;31m                 \u001b[0mcoeffs\u001b[0m \u001b[0;34m=\u001b[0m \u001b[0mnp\u001b[0m\u001b[0;34m.\u001b[0m\u001b[0mpolyfit\u001b[0m\u001b[0;34m(\u001b[0m\u001b[0mnp\u001b[0m\u001b[0;34m.\u001b[0m\u001b[0mlinspace\u001b[0m\u001b[0;34m(\u001b[0m\u001b[0;36m0\u001b[0m\u001b[0;34m,\u001b[0m \u001b[0mlen\u001b[0m\u001b[0;34m(\u001b[0m\u001b[0marr\u001b[0m\u001b[0;34m[\u001b[0m\u001b[0;34m:\u001b[0m\u001b[0;34m,\u001b[0m\u001b[0mi\u001b[0m\u001b[0;34m]\u001b[0m\u001b[0;34m)\u001b[0m\u001b[0;34m,\u001b[0m \u001b[0mlen\u001b[0m\u001b[0;34m(\u001b[0m\u001b[0marr\u001b[0m\u001b[0;34m[\u001b[0m\u001b[0;34m:\u001b[0m\u001b[0;34m,\u001b[0m \u001b[0mi\u001b[0m\u001b[0;34m]\u001b[0m\u001b[0;34m)\u001b[0m\u001b[0;34m)\u001b[0m\u001b[0;34m,\u001b[0m \u001b[0marr\u001b[0m\u001b[0;34m[\u001b[0m\u001b[0;34m:\u001b[0m\u001b[0;34m,\u001b[0m \u001b[0mi\u001b[0m\u001b[0;34m]\u001b[0m\u001b[0;34m,\u001b[0m \u001b[0;36m2\u001b[0m\u001b[0;34m)\u001b[0m\u001b[0;34m\u001b[0m\u001b[0;34m\u001b[0m\u001b[0m\n\u001b[0m\u001b[1;32m     10\u001b[0m                 \u001b[0mynew\u001b[0m \u001b[0;34m=\u001b[0m \u001b[0mnp\u001b[0m\u001b[0;34m.\u001b[0m\u001b[0mpoly1d\u001b[0m\u001b[0;34m(\u001b[0m\u001b[0mcoeffs\u001b[0m\u001b[0;34m)\u001b[0m\u001b[0;34m\u001b[0m\u001b[0;34m\u001b[0m\u001b[0m\n\u001b[1;32m     11\u001b[0m                 \u001b[0marr\u001b[0m\u001b[0;34m[\u001b[0m\u001b[0;34m:\u001b[0m\u001b[0;34m,\u001b[0m \u001b[0mi\u001b[0m\u001b[0;34m]\u001b[0m \u001b[0;34m=\u001b[0m \u001b[0mynew\u001b[0m\u001b[0;34m(\u001b[0m\u001b[0mnp\u001b[0m\u001b[0;34m.\u001b[0m\u001b[0mlinspace\u001b[0m\u001b[0;34m(\u001b[0m\u001b[0;36m0\u001b[0m\u001b[0;34m,\u001b[0m \u001b[0mlen\u001b[0m\u001b[0;34m(\u001b[0m\u001b[0marr\u001b[0m\u001b[0;34m[\u001b[0m\u001b[0;34m:\u001b[0m\u001b[0;34m,\u001b[0m \u001b[0mi\u001b[0m\u001b[0;34m]\u001b[0m\u001b[0;34m)\u001b[0m\u001b[0;34m,\u001b[0m \u001b[0mlen\u001b[0m\u001b[0;34m(\u001b[0m\u001b[0marr\u001b[0m\u001b[0;34m[\u001b[0m\u001b[0;34m:\u001b[0m\u001b[0;34m,\u001b[0m \u001b[0mi\u001b[0m\u001b[0;34m]\u001b[0m\u001b[0;34m)\u001b[0m\u001b[0;34m)\u001b[0m\u001b[0;34m)\u001b[0m\u001b[0;34m\u001b[0m\u001b[0;34m\u001b[0m\u001b[0m\n",
      "\u001b[0;32m~/realta/lib/python3.8/site-packages/numpy/lib/polynomial.py\u001b[0m in \u001b[0;36mpolyfit\u001b[0;34m(x, y, deg, rcond, full, w, cov)\u001b[0m\n\u001b[1;32m    626\u001b[0m     \u001b[0mscale\u001b[0m \u001b[0;34m=\u001b[0m \u001b[0mNX\u001b[0m\u001b[0;34m.\u001b[0m\u001b[0msqrt\u001b[0m\u001b[0;34m(\u001b[0m\u001b[0;34m(\u001b[0m\u001b[0mlhs\u001b[0m\u001b[0;34m*\u001b[0m\u001b[0mlhs\u001b[0m\u001b[0;34m)\u001b[0m\u001b[0;34m.\u001b[0m\u001b[0msum\u001b[0m\u001b[0;34m(\u001b[0m\u001b[0maxis\u001b[0m\u001b[0;34m=\u001b[0m\u001b[0;36m0\u001b[0m\u001b[0;34m)\u001b[0m\u001b[0;34m)\u001b[0m\u001b[0;34m\u001b[0m\u001b[0;34m\u001b[0m\u001b[0m\n\u001b[1;32m    627\u001b[0m     \u001b[0mlhs\u001b[0m \u001b[0;34m/=\u001b[0m \u001b[0mscale\u001b[0m\u001b[0;34m\u001b[0m\u001b[0;34m\u001b[0m\u001b[0m\n\u001b[0;32m--> 628\u001b[0;31m     \u001b[0mc\u001b[0m\u001b[0;34m,\u001b[0m \u001b[0mresids\u001b[0m\u001b[0;34m,\u001b[0m \u001b[0mrank\u001b[0m\u001b[0;34m,\u001b[0m \u001b[0ms\u001b[0m \u001b[0;34m=\u001b[0m \u001b[0mlstsq\u001b[0m\u001b[0;34m(\u001b[0m\u001b[0mlhs\u001b[0m\u001b[0;34m,\u001b[0m \u001b[0mrhs\u001b[0m\u001b[0;34m,\u001b[0m \u001b[0mrcond\u001b[0m\u001b[0;34m)\u001b[0m\u001b[0;34m\u001b[0m\u001b[0;34m\u001b[0m\u001b[0m\n\u001b[0m\u001b[1;32m    629\u001b[0m     \u001b[0mc\u001b[0m \u001b[0;34m=\u001b[0m \u001b[0;34m(\u001b[0m\u001b[0mc\u001b[0m\u001b[0;34m.\u001b[0m\u001b[0mT\u001b[0m\u001b[0;34m/\u001b[0m\u001b[0mscale\u001b[0m\u001b[0;34m)\u001b[0m\u001b[0;34m.\u001b[0m\u001b[0mT\u001b[0m  \u001b[0;31m# broadcast scale coefficients\u001b[0m\u001b[0;34m\u001b[0m\u001b[0;34m\u001b[0m\u001b[0m\n\u001b[1;32m    630\u001b[0m \u001b[0;34m\u001b[0m\u001b[0m\n",
      "\u001b[0;32m~/realta/lib/python3.8/site-packages/numpy/linalg/linalg.py\u001b[0m in \u001b[0;36mlstsq\u001b[0;34m(a, b, rcond)\u001b[0m\n\u001b[1;32m   2234\u001b[0m         \u001b[0;31m# lapack can't handle n_rhs = 0 - so allocate the array one larger in that axis\u001b[0m\u001b[0;34m\u001b[0m\u001b[0;34m\u001b[0m\u001b[0;34m\u001b[0m\u001b[0m\n\u001b[1;32m   2235\u001b[0m         \u001b[0mb\u001b[0m \u001b[0;34m=\u001b[0m \u001b[0mzeros\u001b[0m\u001b[0;34m(\u001b[0m\u001b[0mb\u001b[0m\u001b[0;34m.\u001b[0m\u001b[0mshape\u001b[0m\u001b[0;34m[\u001b[0m\u001b[0;34m:\u001b[0m\u001b[0;34m-\u001b[0m\u001b[0;36m2\u001b[0m\u001b[0;34m]\u001b[0m \u001b[0;34m+\u001b[0m \u001b[0;34m(\u001b[0m\u001b[0mm\u001b[0m\u001b[0;34m,\u001b[0m \u001b[0mn_rhs\u001b[0m \u001b[0;34m+\u001b[0m \u001b[0;36m1\u001b[0m\u001b[0;34m)\u001b[0m\u001b[0;34m,\u001b[0m \u001b[0mdtype\u001b[0m\u001b[0;34m=\u001b[0m\u001b[0mb\u001b[0m\u001b[0;34m.\u001b[0m\u001b[0mdtype\u001b[0m\u001b[0;34m)\u001b[0m\u001b[0;34m\u001b[0m\u001b[0;34m\u001b[0m\u001b[0m\n\u001b[0;32m-> 2236\u001b[0;31m     \u001b[0mx\u001b[0m\u001b[0;34m,\u001b[0m \u001b[0mresids\u001b[0m\u001b[0;34m,\u001b[0m \u001b[0mrank\u001b[0m\u001b[0;34m,\u001b[0m \u001b[0ms\u001b[0m \u001b[0;34m=\u001b[0m \u001b[0mgufunc\u001b[0m\u001b[0;34m(\u001b[0m\u001b[0ma\u001b[0m\u001b[0;34m,\u001b[0m \u001b[0mb\u001b[0m\u001b[0;34m,\u001b[0m \u001b[0mrcond\u001b[0m\u001b[0;34m,\u001b[0m \u001b[0msignature\u001b[0m\u001b[0;34m=\u001b[0m\u001b[0msignature\u001b[0m\u001b[0;34m,\u001b[0m \u001b[0mextobj\u001b[0m\u001b[0;34m=\u001b[0m\u001b[0mextobj\u001b[0m\u001b[0;34m)\u001b[0m\u001b[0;34m\u001b[0m\u001b[0;34m\u001b[0m\u001b[0m\n\u001b[0m\u001b[1;32m   2237\u001b[0m     \u001b[0;32mif\u001b[0m \u001b[0mm\u001b[0m \u001b[0;34m==\u001b[0m \u001b[0;36m0\u001b[0m\u001b[0;34m:\u001b[0m\u001b[0;34m\u001b[0m\u001b[0;34m\u001b[0m\u001b[0m\n\u001b[1;32m   2238\u001b[0m         \u001b[0mx\u001b[0m\u001b[0;34m[\u001b[0m\u001b[0;34m...\u001b[0m\u001b[0;34m]\u001b[0m \u001b[0;34m=\u001b[0m \u001b[0;36m0\u001b[0m\u001b[0;34m\u001b[0m\u001b[0;34m\u001b[0m\u001b[0m\n",
      "\u001b[0;31mKeyboardInterrupt\u001b[0m: "
     ]
    }
   ],
   "source": [
    "smooth_offs = []\n",
    "for i,j in enumerate(offdatas):\n",
    "    arrs = np.array_split(j, norm_splits)\n",
    "    for arr in arrs:\n",
    "        for i in np.arange(arr.shape[1]):\n",
    "            if np.any(np.isnan(arr[:,i])):\n",
    "                pass\n",
    "            else:\n",
    "                coeffs = np.polyfit(np.linspace(0, len(arr[:,i]), len(arr[:, i])), arr[:, i], 2)\n",
    "                ynew = np.poly1d(coeffs)\n",
    "                arr[:, i] = ynew(np.linspace(0, len(arr[:, i]), len(arr[:, i])))\n",
    "    smooth_offs.append(np.vstack(arrs))\n",
    "smooth_off = np.vstack(smooth_offs)"
   ]
  },
  {
   "cell_type": "code",
   "execution_count": null,
   "metadata": {},
   "outputs": [],
   "source": [
    "smooth_off.shape()"
   ]
  },
  {
   "cell_type": "code",
   "execution_count": null,
   "metadata": {},
   "outputs": [],
   "source": [
    "arrs = np.array_split(offdatas, norm_splits)\n",
    "for arr in arrs:\n",
    "    for i in np.arange(arr.shape[1]):\n",
    "        if np.any(np.isnan(arr[:,i])):\n",
    "            pass\n",
    "        else:\n",
    "            coeffs = np.polyfit(np.linspace(0, len(arr[:,i]), len(arr[:, i])), arr[:, i], 2)\n",
    "            ynew = np.poly1d(coeffs)\n",
    "            arr[:, i] = ynew(np.linspace(0, len(arr[:, i]), len(arr[:, i])))\n",
    "datas = np.vstack(arrs)"
   ]
  },
  {
   "cell_type": "code",
   "execution_count": 9,
   "metadata": {},
   "outputs": [],
   "source": [
    "def plot_data(data, trange, flims, xlabel, ylabel, plotname):\n",
    "    f = plt.figure(figsize=(12,6))\n",
    "    f.set_facecolor('white')\n",
    "\n",
    "    spec = gridspec.GridSpec(ncols=2, nrows=2, width_ratios=[6,1], height_ratios=[1,4])\n",
    "    ax0 = f.add_subplot(spec[0])\n",
    "    ax2 = f.add_subplot(spec[2])\n",
    "    ax3 = f.add_subplot(spec[3])\n",
    "\n",
    "    xs = data.T.sum(axis=0)\n",
    "    ys = data.T.sum(axis=1)\n",
    "\n",
    "    ax0.plot(xs, lw=0.5)\n",
    "    ax0.set(xticklabels=[], xlim=[0,None])\n",
    "    ax0.tick_params(bottom=False)\n",
    "\n",
    "    rot = transforms.Affine2D().rotate_deg(270)\n",
    "    ax3.plot(ys[::-1], lw=0.5, transform=rot+plt.gca().transData)\n",
    "    ax3.set(yticklabels=[])\n",
    "    ax3.tick_params(left=False)\n",
    "\n",
    "    xlims = list(map(dt.datetime.fromisoformat, [trange.start.value, trange.end.value]))\n",
    "    xlims = mdates.date2num(xlims)\n",
    "\n",
    "    im = ax2.imshow(data.T, aspect='auto', origin='lower',\n",
    "            vmin=np.nanpercentile(data.T, 5), \n",
    "            vmax=np.nanpercentile(data.T, 90),\n",
    "            extent=[xlims[0], xlims[1], \n",
    "                    flims[0].value, flims[1].value])\n",
    "\n",
    "    ax2.xaxis_date()\n",
    "    date_format = mdates.DateFormatter('%H:%M:%S')\n",
    "    ax2.xaxis.set_major_formatter(date_format)\n",
    "\n",
    "    ax2.set_title(\"Uranus observation - Stokes I\")\n",
    "    ax2.set_ylabel(ylabel, fontsize=14)\n",
    "    ax2.set_xlabel(xlabel, fontsize=14)\n",
    "\n",
    "    divider = make_axes_locatable(ax2)\n",
    "    cax = divider.append_axes(\"right\", size=\"3%\", pad=0.05)\n",
    "    plt.colorbar(im, cax=cax)\n",
    "\n",
    "    plt.tight_layout()\n",
    "    plt.savefig(plotname, dpi=900)"
   ]
  },
  {
   "cell_type": "code",
   "execution_count": 45,
   "metadata": {},
   "outputs": [
    {
     "output_type": "stream",
     "name": "stdout",
     "text": [
      "Analysing chunk #1 of data\n",
      "(12892071, 78)\n",
      "\tData downsampled x1831\n",
      "\t Data shape: (7041, 78)\n",
      "\tPlotting...\n",
      "\n",
      "Analysing chunk #2 of data\n",
      "(12892071, 78)\n",
      "\tData downsampled x1831\n",
      "\t Data shape: (7041, 78)\n",
      "\tPlotting...\n",
      "\n",
      "Analysing chunk #3 of data\n",
      "(12892071, 78)\n",
      "\tData downsampled x1831\n",
      "\t Data shape: (7041, 78)\n",
      "\tPlotting...\n",
      "\n",
      "Analysing chunk #4 of data\n",
      "(12892071, 78)\n",
      "\tData downsampled x1831\n",
      "\t Data shape: (7041, 78)\n",
      "\tPlotting...\n",
      "\n",
      "Analysing chunk #5 of data\n",
      "(12892071, 78)\n",
      "\tData downsampled x1831\n",
      "\t Data shape: (7041, 78)\n",
      "\tPlotting...\n",
      "\n",
      "Analysing chunk #6 of data\n",
      "(12892071, 78)\n",
      "\tData downsampled x1831\n",
      "\t Data shape: (7041, 78)\n",
      "\tPlotting...\n",
      "\n",
      "Analysing chunk #7 of data\n",
      "(12892071, 78)\n",
      "\tData downsampled x1831\n",
      "\t Data shape: (7041, 78)\n",
      "\tPlotting...\n",
      "\n",
      "Analysing chunk #8 of data\n",
      "(12892071, 78)\n",
      "\tData downsampled x1831\n",
      "\t Data shape: (7041, 78)\n",
      "\tPlotting...\n",
      "\n",
      "Analysing chunk #9 of data\n",
      "(12892071, 78)\n",
      "\tData downsampled x1831\n",
      "\t Data shape: (7041, 78)\n",
      "\tPlotting...\n",
      "\n",
      "Analysing chunk #10 of data\n",
      "(12892071, 78)\n",
      "\tData downsampled x1831\n",
      "\t Data shape: (7041, 78)\n",
      "\tPlotting...\n",
      "\n"
     ]
    }
   ],
   "source": [
    "for i,j in enumerate(datas):\n",
    "    print(\"Analysing chunk #{} of data\".format(i+1))\n",
    "\n",
    "    bg = np.true_divide(j, offdatas[i], out=np.zeros_like(j), where=offdatas[i]!=0) #bg removal... (?) I think\n",
    "\n",
    "    #dec = 256\n",
    "    #dec = 3662 # dec = 3662 gives a resolution of 150 ms\n",
    "    #summed = np.cumsum(bg, axis=0)\n",
    "    #dec_data = summed[dec::dec, :] - summed[:-dec:dec, :]\n",
    "    dec = 1831\n",
    "    pad = np.ceil(float(bg.shape[0])/dec)*dec - bg.shape[0]\n",
    "    pad_arr = np.zeros((int(pad), bg.shape[1]))*np.NaN\n",
    "    bg_padded = np.append(bg, pad_arr).reshape(-1, bg.shape[1])\n",
    "    dec_data = np.nanmean(bg_padded.T.reshape(bg.shape[1], -1, dec), axis=2).T\n",
    "    \n",
    "    #print('\\tData downsampled x{}'.format(int(dec/2)))\n",
    "    print('\\tData downsampled x{}'.format(int(dec)))\n",
    "    print('\\t Data shape: {}'.format(dec_data.shape))\n",
    "\n",
    "    print(\"\\tPlotting...\\n\")\n",
    "    plot_data(dec_data, tchunks[i], freqlimits, xlabel, ylabel, 'bg_removal_with_off_stokesI/Uranus_remove_bg_{}'.format(i+1))"
   ]
  },
  {
   "cell_type": "code",
   "execution_count": null,
   "metadata": {},
   "outputs": [],
   "source": []
  }
 ]
}