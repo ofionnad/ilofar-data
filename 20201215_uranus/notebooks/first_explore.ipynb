{
 "metadata": {
  "language_info": {
   "codemirror_mode": {
    "name": "ipython",
    "version": 3
   },
   "file_extension": ".py",
   "mimetype": "text/x-python",
   "name": "python",
   "nbconvert_exporter": "python",
   "pygments_lexer": "ipython3",
   "version": "3.8.0-final"
  },
  "orig_nbformat": 2,
  "kernelspec": {
   "name": "jup-realta",
   "display_name": "jup-realta",
   "language": "python"
  }
 },
 "nbformat": 4,
 "nbformat_minor": 2,
 "cells": [
  {
   "cell_type": "code",
   "execution_count": 1,
   "metadata": {},
   "outputs": [],
   "source": [
    "#!/usr/bin/env python3\n",
    "import numpy as np\n",
    "import matplotlib.pyplot as plt\n",
    "import pandas as pd \n",
    "import astropy.units as u\n",
    "from sunpy.time import TimeRange\n",
    "import time\n",
    "import sys\n",
    "\n",
    "import datetime as dt\n",
    "import matplotlib.dates as mdates\n",
    "from mpl_toolkits.axes_grid1 import make_axes_locatable\n",
    "from matplotlib.colors import LogNorm\n",
    "from matplotlib import gridspec,transforms\n",
    "\n",
    "%matplotlib inline"
   ]
  },
  {
   "cell_type": "code",
   "execution_count": 2,
   "metadata": {},
   "outputs": [],
   "source": [
    "sys.path.insert(1, '../../20201013_jupiter/')\n",
    "from sk import LofarRaw"
   ]
  },
  {
   "cell_type": "code",
   "execution_count": 29,
   "metadata": {},
   "outputs": [],
   "source": [
    "filename = '../udpoutput/uranus-stokesVectors_0_2020-12-15T20:04:00_19629670898060' #0 is I and 1 is V I assume\n",
    "frange = [15,30]\n",
    "sbs = np.arange(76,198)\n",
    "obs_mode = 3\n",
    "time_len_mins = 176.\n",
    "trange = TimeRange(filename.split('_')[-2], time_len_mins*u.min)\n",
    "xlabel = \"Time from {} {}\".format(filename.split('_')[-2].split('T')[0], filename.split('_')[-2].split('T')[1])\n",
    "ylabel = \"Frequency (MHz)\"\n",
    "title = filename.split('/')[2]"
   ]
  },
  {
   "cell_type": "code",
   "execution_count": null,
   "metadata": {},
   "outputs": [],
   "source": [
    "off_fname = '../udpoutput/offsource-stokesVectors_0_2020-12-15T20:04:00_19629670898060'\n",
    "frange = [15,30]\n",
    "sbs = np.arange(76,198)\n",
    "obs_mode = 3\n",
    "time_len_mins = 176.\n",
    "offtrange = TimeRange(off_fname.split('_')[-2], time_len_mins*u.min)\n",
    "#offxlabel = \"Time from {} {}\".format(off_fname.split('_')[-2].split('T')[0], off_fname.split('_')[-2].split('T')[1])\n",
    "#offylabel = \"Frequency (MHz)\"\n",
    "#offtitle = off_fname.split('/')[2]"
   ]
  },
  {
   "cell_type": "code",
   "execution_count": 30,
   "metadata": {},
   "outputs": [
    {
     "output_type": "stream",
     "name": "stdout",
     "text": [
      "Time to read data: 0.000962s\n\n"
     ]
    }
   ],
   "source": [
    "raw = LofarRaw(fname=filename, sbs=sbs, obs_mode=obs_mode, frange=frange)\n",
    "raw.data = raw.data[:,:78] ###the rest of the subbands are empty because of the way ilofar/realta records data into the data lanes"
   ]
  },
  {
   "cell_type": "code",
   "execution_count": 31,
   "metadata": {},
   "outputs": [],
   "source": [
    "flimits = np.array([0,78])\n",
    "freqlimits = raw.sb_to_f(flimits+sbs[0], obs_mode)\n",
    "xlims = list(map(dt.datetime.fromisoformat, [trange.start.value, trange.end.value]))\n",
    "xlims = mdates.date2num(xlims)"
   ]
  },
  {
   "cell_type": "code",
   "execution_count": 32,
   "metadata": {},
   "outputs": [],
   "source": [
    "datasplit = 10\n",
    "normseconds = 42\n",
    "norm_splits = int(((trange.minutes.value/datasplit)*60)/normseconds)\n",
    "\n",
    "tchunks = trange.split(datasplit)\n",
    "datas = np.array_split(raw.data, datasplit, axis=0)"
   ]
  },
  {
   "cell_type": "code",
   "execution_count": 33,
   "metadata": {},
   "outputs": [
    {
     "output_type": "stream",
     "name": "stdout",
     "text": [
      "Analysing chunk #1 of data\n",
      "\tSplitting sub-array\n",
      "\tSub-array normalised\n",
      "\tData downsampled x16\n",
      "\tPlotting...\n",
      "\n",
      "Analysing chunk #2 of data\n",
      "\tSplitting sub-array\n",
      "\tSub-array normalised\n",
      "\tData downsampled x16\n",
      "\tPlotting...\n",
      "\n",
      "Analysing chunk #3 of data\n",
      "\tSplitting sub-array\n",
      "\tSub-array normalised\n",
      "\tData downsampled x16\n",
      "\tPlotting...\n",
      "\n",
      "Analysing chunk #4 of data\n",
      "\tSplitting sub-array\n",
      "\tSub-array normalised\n",
      "\tData downsampled x16\n",
      "\tPlotting...\n",
      "\n",
      "Analysing chunk #5 of data\n",
      "\tSplitting sub-array\n",
      "\tSub-array normalised\n",
      "\tData downsampled x16\n",
      "\tPlotting...\n",
      "\n",
      "Analysing chunk #6 of data\n",
      "\tSplitting sub-array\n",
      "\tSub-array normalised\n",
      "\tData downsampled x16\n",
      "\tPlotting...\n",
      "\n",
      "Analysing chunk #7 of data\n",
      "\tSplitting sub-array\n",
      "\tSub-array normalised\n",
      "\tData downsampled x16\n",
      "\tPlotting...\n",
      "\n",
      "Analysing chunk #8 of data\n",
      "\tSplitting sub-array\n",
      "\tSub-array normalised\n",
      "\tData downsampled x16\n",
      "\tPlotting...\n",
      "\n",
      "Analysing chunk #9 of data\n",
      "\tSplitting sub-array\n",
      "\tSub-array normalised\n",
      "\tData downsampled x16\n",
      "\tPlotting...\n",
      "\n",
      "Analysing chunk #10 of data\n",
      "\tSplitting sub-array\n",
      "\tSub-array normalised\n",
      "\tData downsampled x16\n",
      "\tPlotting...\n",
      "\n"
     ]
    }
   ],
   "source": [
    "for i,j in enumerate(datas):\n",
    "    print(\"Analysing chunk #{} of data\".format(i+1))\n",
    "\n",
    "    arrs = np.array_split(j, norm_splits)\n",
    "    print(\"\\tSplitting sub-array\")\n",
    "    arrs = [(arr/np.quantile(np.abs(arr), 0.1, axis=0)) for arr in arrs] #normalise freq response\n",
    "    #np.abs here so stokes V stays +/- and not all - or +\n",
    "    print(\"\\tSub-array normalised\")\n",
    "    d = np.vstack(arrs)\n",
    "\n",
    "    #downsampling\n",
    "    dec = 32\n",
    "    summed = np.cumsum(d, axis=0)\n",
    "    dec_data = summed[dec::dec, :] - summed[:-dec:dec, :]\n",
    "    print('\\tData downsampled x{}'.format(int(dec/2)))\n",
    "    \n",
    "    print(\"\\tPlotting...\\n\")\n",
    "    plot_data(dec_data, tchunks[i], freqlimits, xlabel, ylabel, 'stokesV_plots_freqnormed/Uranus_stokesI_plot_{}'.format(i+1))"
   ]
  },
  {
   "cell_type": "code",
   "execution_count": 56,
   "metadata": {},
   "outputs": [
    {
     "output_type": "stream",
     "name": "stdout",
     "text": [
      "Time to read data: 0.001239s\n\n"
     ]
    }
   ],
   "source": [
    "raw = LofarRaw(fname=filename, sbs=sbs, obs_mode=obs_mode, frange=frange)"
   ]
  },
  {
   "cell_type": "code",
   "execution_count": 57,
   "metadata": {},
   "outputs": [],
   "source": [
    "data_fraction = 100 #the inverse of how much data to take at a time"
   ]
  },
  {
   "cell_type": "code",
   "execution_count": 58,
   "metadata": {},
   "outputs": [],
   "source": [
    "raw.data = raw.data[::data_fraction]\n",
    "raw.data = raw.data[:,:78]"
   ]
  },
  {
   "cell_type": "code",
   "execution_count": 59,
   "metadata": {},
   "outputs": [
    {
     "output_type": "execute_result",
     "data": {
      "text/plain": [
       "(1289063, 78)"
      ]
     },
     "metadata": {},
     "execution_count": 59
    }
   ],
   "source": [
    "raw.data.shape"
   ]
  },
  {
   "cell_type": "code",
   "execution_count": 60,
   "metadata": {},
   "outputs": [],
   "source": [
    "plt.figure(figsize=(12,6))\n",
    "im = plt.imshow(raw.data.T, aspect='auto', origin='lower',\n",
    "            vmin=np.nanpercentile(raw.data.T, 5), \n",
    "            vmax=np.nanpercentile(raw.data.T, 90),\n",
    "            extent=[xlims[0], xlims[1], \n",
    "                    freqlimits[0].value, freqlimits[1].value])\n",
    "\n",
    "plt.gca().xaxis_date()\n",
    "date_format = mdates.DateFormatter('%H:%M:%S')\n",
    "plt.gca().xaxis.set_major_formatter(date_format)\n",
    "\n",
    "plt.title(\"Uranus observation - Stokes I\")\n",
    "plt.ylabel(ylabel, fontsize=14)\n",
    "plt.xlabel(xlabel, fontsize=14)\n",
    "\n",
    "divider = make_axes_locatable(plt.gca())\n",
    "cax = divider.append_axes(\"right\", size=\"5%\", pad=0.05)\n",
    "plt.colorbar(im, cax=cax)\n",
    "\n",
    "plt.tight_layout()"
   ]
  },
  {
   "cell_type": "code",
   "execution_count": 61,
   "metadata": {},
   "outputs": [],
   "source": [
    "plt.savefig('first_explore.png')"
   ]
  },
  {
   "cell_type": "code",
   "execution_count": 27,
   "metadata": {},
   "outputs": [],
   "source": [
    "def plot_data(data, trange, flims, xlabel, ylabel, plotname):\n",
    "    f = plt.figure(figsize=(12,6))\n",
    "    f.set_facecolor('white')\n",
    "\n",
    "    spec = gridspec.GridSpec(ncols=2, nrows=2, width_ratios=[6,1], height_ratios=[1,4])\n",
    "    ax0 = f.add_subplot(spec[0])\n",
    "    ax2 = f.add_subplot(spec[2])\n",
    "    ax3 = f.add_subplot(spec[3])\n",
    "\n",
    "    xs = data.T.sum(axis=0)\n",
    "    ys = data.T.sum(axis=1)\n",
    "\n",
    "    ax0.plot(xs, lw=0.5)\n",
    "    ax0.set(xticklabels=[], xlim=[0,None])\n",
    "    ax0.tick_params(bottom=False)\n",
    "\n",
    "    rot = transforms.Affine2D().rotate_deg(270)\n",
    "    ax3.plot(ys[::-1], lw=0.5, transform=rot+plt.gca().transData)\n",
    "    ax3.set(yticklabels=[])\n",
    "    ax3.tick_params(left=False)\n",
    "\n",
    "    xlims = list(map(dt.datetime.fromisoformat, [trange.start.value, trange.end.value]))\n",
    "    xlims = mdates.date2num(xlims)\n",
    "\n",
    "    im = ax2.imshow(data.T, aspect='auto', origin='lower',\n",
    "            vmin=np.nanpercentile(data.T, 5), \n",
    "            vmax=np.nanpercentile(data.T, 90),\n",
    "            extent=[xlims[0], xlims[1], \n",
    "                    flims[0].value, flims[1].value])\n",
    "\n",
    "    ax2.xaxis_date()\n",
    "    date_format = mdates.DateFormatter('%H:%M:%S')\n",
    "    ax2.xaxis.set_major_formatter(date_format)\n",
    "\n",
    "    ax2.set_title(\"Uranus observation - Stokes I\")\n",
    "    ax2.set_ylabel(ylabel, fontsize=14)\n",
    "    ax2.set_xlabel(xlabel, fontsize=14)\n",
    "\n",
    "    divider = make_axes_locatable(ax2)\n",
    "    cax = divider.append_axes(\"right\", size=\"3%\", pad=0.05)\n",
    "    plt.colorbar(im, cax=cax)\n",
    "\n",
    "    plt.tight_layout()\n",
    "    plt.savefig(plotname, dpi=900)"
   ]
  },
  {
   "cell_type": "code",
   "execution_count": null,
   "metadata": {},
   "outputs": [],
   "source": []
  }
 ]
}